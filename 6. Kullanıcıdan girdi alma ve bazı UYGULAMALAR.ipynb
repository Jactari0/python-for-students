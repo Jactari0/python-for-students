{
 "cells": [
  {
   "cell_type": "markdown",
   "metadata": {},
   "source": [
    "# Kullanıcıdan Girdi alma "
   ]
  },
  {
   "cell_type": "raw",
   "metadata": {},
   "source": [
    "Programlama esnasında kullanıcıdan girdi almak için input() fonksiyonu kullanılır"
   ]
  },
  {
   "cell_type": "code",
   "execution_count": 3,
   "metadata": {},
   "outputs": [
    {
     "name": "stdout",
     "output_type": "stream",
     "text": [
      "Lütfen bir sayı giriniz:24\n"
     ]
    },
    {
     "data": {
      "text/plain": [
       "'24'"
      ]
     },
     "execution_count": 3,
     "metadata": {},
     "output_type": "execute_result"
    }
   ],
   "source": [
    "input(\"Lütfen bir sayı giriniz:\")"
   ]
  },
  {
   "cell_type": "raw",
   "metadata": {},
   "source": [
    "Bu şekilde kullanıldığında yukarıda girilen 24 sayısı değişken olarak tanımlanmaz. Girilen değerin, python tarafından yakalanması için şu yol izlenir"
   ]
  },
  {
   "cell_type": "code",
   "execution_count": 7,
   "metadata": {},
   "outputs": [
    {
     "name": "stdout",
     "output_type": "stream",
     "text": [
      "Lütfen bir sayı giriniz:35\n",
      "Kullanıcının girdiği değer 35\n"
     ]
    }
   ],
   "source": [
    "x = input(\"Lütfen bir sayı giriniz:\")\n",
    "print(\"Kullanıcının girdiği değer\",x)"
   ]
  },
  {
   "cell_type": "code",
   "execution_count": 9,
   "metadata": {},
   "outputs": [
    {
     "name": "stdout",
     "output_type": "stream",
     "text": [
      "Lütfen bir sayı giriniz:20\n",
      "202020\n"
     ]
    }
   ],
   "source": [
    "x = input(\"Lütfen bir sayı giriniz:\")\n",
    "print(x*3)"
   ]
  },
  {
   "cell_type": "raw",
   "metadata": {},
   "source": [
    "Neden bu şekilde oldu da 60 olmadı ? "
   ]
  },
  {
   "cell_type": "code",
   "execution_count": 10,
   "metadata": {},
   "outputs": [
    {
     "name": "stdout",
     "output_type": "stream",
     "text": [
      "Lütfen bir sayı giriniz:20\n",
      "<class 'str'>\n"
     ]
    }
   ],
   "source": [
    "x = input(\"Lütfen bir sayı giriniz:\")\n",
    "print(type(x))"
   ]
  },
  {
   "cell_type": "raw",
   "metadata": {},
   "source": [
    "Dikkat edilirse x değişkeni string değişkenidir, sayı değildir ! input() fonksiyonunda girilen değer Python tarafından string olarak değerlendirilir. O halde bunu sayışa dönüştürmek gerekir ! "
   ]
  },
  {
   "cell_type": "code",
   "execution_count": 11,
   "metadata": {},
   "outputs": [
    {
     "name": "stdout",
     "output_type": "stream",
     "text": [
      "Lütfen bir sayı giriniz:20\n",
      "60\n"
     ]
    }
   ],
   "source": [
    "x = int(input(\"Lütfen bir sayı giriniz:\")) \n",
    "print(x*3)"
   ]
  },
  {
   "cell_type": "code",
   "execution_count": 13,
   "metadata": {},
   "outputs": [
    {
     "name": "stdout",
     "output_type": "stream",
     "text": [
      "birinci sayı40\n",
      "ikinci sayı20\n",
      "üçüncü sayı100\n",
      "toplamları= 160\n"
     ]
    }
   ],
   "source": [
    "a = int(input(\"birinci sayı\"))\n",
    "b = int(input(\"ikinci sayı\"))\n",
    "c = int(input(\"üçüncü sayı\"))\n",
    "print(\"toplamları=\",a+b+c)"
   ]
  },
  {
   "cell_type": "raw",
   "metadata": {},
   "source": [
    "Daha önce sayı karakteri ile girilmeyen stringlerin sayı değişkeni olarak dönüştürülemediğine değinilmişti. Aşağıdaki uygulamaya ve henüz erken olmasına karşın sorununun aşılma yöntemine dikkat ediniz. "
   ]
  },
  {
   "cell_type": "code",
   "execution_count": 14,
   "metadata": {},
   "outputs": [
    {
     "name": "stdout",
     "output_type": "stream",
     "text": [
      "a:21xyzt\n"
     ]
    },
    {
     "ename": "ValueError",
     "evalue": "invalid literal for int() with base 10: '21xyzt'",
     "output_type": "error",
     "traceback": [
      "\u001b[1;31m---------------------------------------------------------------------------\u001b[0m",
      "\u001b[1;31mValueError\u001b[0m                                Traceback (most recent call last)",
      "\u001b[1;32m<ipython-input-14-e87a38b7f97d>\u001b[0m in \u001b[0;36m<module>\u001b[1;34m\u001b[0m\n\u001b[1;32m----> 1\u001b[1;33m \u001b[0ma\u001b[0m \u001b[1;33m=\u001b[0m \u001b[0mint\u001b[0m\u001b[1;33m(\u001b[0m\u001b[0minput\u001b[0m\u001b[1;33m(\u001b[0m\u001b[1;34m\"a:\"\u001b[0m\u001b[1;33m)\u001b[0m\u001b[1;33m)\u001b[0m\u001b[1;33m\u001b[0m\u001b[1;33m\u001b[0m\u001b[0m\n\u001b[0m\u001b[0;32m      2\u001b[0m \u001b[0mprint\u001b[0m\u001b[1;33m(\u001b[0m\u001b[0ma\u001b[0m\u001b[1;33m)\u001b[0m\u001b[1;33m\u001b[0m\u001b[1;33m\u001b[0m\u001b[0m\n",
      "\u001b[1;31mValueError\u001b[0m: invalid literal for int() with base 10: '21xyzt'"
     ]
    }
   ],
   "source": [
    "a = int(input(\"a:\"))\n",
    "print(a)"
   ]
  },
  {
   "cell_type": "code",
   "execution_count": 1,
   "metadata": {},
   "outputs": [
    {
     "name": "stdout",
     "output_type": "stream",
     "text": [
      "a:2x\n",
      "Lütfen doğru bir sayı giriniz\n"
     ]
    }
   ],
   "source": [
    "try: \n",
    "    a = a =int(input(\"a:\"))\n",
    "    print(a)\n",
    "    \n",
    "except ValueError:\n",
    "    print(\"Lütfen doğru bir sayı giriniz\")"
   ]
  },
  {
   "cell_type": "raw",
   "metadata": {},
   "source": [
    " String değişken tanımlamak için de aşağıdaki uygulamadan faydalanılabilir. "
   ]
  },
  {
   "cell_type": "code",
   "execution_count": 3,
   "metadata": {},
   "outputs": [
    {
     "name": "stdout",
     "output_type": "stream",
     "text": [
      "isim: Adriana\n",
      "isminiz Adriana\n"
     ]
    }
   ],
   "source": [
    "isim = input(\"isim: \")\n",
    "print(\"isminiz\",isim)"
   ]
  },
  {
   "cell_type": "markdown",
   "metadata": {},
   "source": [
    "# BAZI UYGULAMALAR"
   ]
  },
  {
   "cell_type": "markdown",
   "metadata": {},
   "source": [
    "# Gelişmiş Kullanıcı girişi"
   ]
  },
  {
   "cell_type": "code",
   "execution_count": 1,
   "metadata": {},
   "outputs": [
    {
     "name": "stdout",
     "output_type": "stream",
     "text": [
      "\n",
      "***********\n",
      "Kullanıcı Girişi Programı\n",
      "***********\n",
      "\n",
      "Kullanıcı Adı: q\n",
      "Parola: 1\n",
      "Kullanıcı Adı ve Parola Hataldıır\n",
      "Kullanıcı Adı: 1\n",
      "Parola: 1\n",
      "Kullanıcı Adı ve Parola Hataldıır\n",
      "Kullanıcı Adı: 1\n",
      "Parola: 1\n",
      "Kullanıcı Adı ve Parola Hataldıır\n",
      "Giriş Hakkınız Tükenmiştir\n"
     ]
    }
   ],
   "source": [
    "print(\"\"\"\n",
    "***********\n",
    "Kullanıcı Girişi Programı\n",
    "***********\n",
    "\"\"\")\n",
    "\n",
    "sys_kullanıcı_adı = \"Cevat Prekazi\"\n",
    "sys_parola =  \"987654321\"\n",
    "\n",
    "giris_hakkı = 3\n",
    "while True:\n",
    "    kullanıcı_adı = input(\"Kullanıcı Adı: \")\n",
    "    parola = input(\"Parola: \")\n",
    "    if (kullanıcı_adı != sys_kullanıcı_adı and parola == sys_parola):\n",
    "        print(\"Kullanıcı Adı Hataldıır\")\n",
    "        giris_hakkı -= 1\n",
    "    elif (kullanıcı_adı == sys_kullanıcı_adı and parola != sys_parola):\n",
    "        print(\"Parola Hataldıır\")\n",
    "        giris_hakkı -= 1\n",
    "    elif (kullanıcı_adı != sys_kullanıcı_adı and parola != sys_parola):\n",
    "        print(\"Kullanıcı Adı ve Parola Hataldıır\")\n",
    "        giris_hakkı -= 1\n",
    "    else:\n",
    "        print(\"Sisteme Başarıyla Giriş Yapıldı\")\n",
    "        break\n",
    "    if(giris_hakkı == 0):\n",
    "        print(\"Giriş Hakkınız Tükenmiştir\")\n",
    "        break"
   ]
  },
  {
   "cell_type": "markdown",
   "metadata": {},
   "source": [
    "# ATM UYGULAMASI"
   ]
  },
  {
   "cell_type": "code",
   "execution_count": 2,
   "metadata": {},
   "outputs": [
    {
     "name": "stdout",
     "output_type": "stream",
     "text": [
      "\n",
      "******************************************\n",
      "ATM Makinesine Hoşgeldiniz\n",
      "\n",
      "İşlemler: \n",
      "\n",
      "1- BAkiye Sorgulama\n",
      "2- Para Yatırma\n",
      "3- Para Çekme \n",
      "\n",
      "Progrmadan çıkmak için X tuşuna basınız. \n",
      "******************************************\n",
      "\n",
      "İşlem Numarası Seçiniz: 1\n",
      "Bakiyeniz 1000 TL'dir\n",
      "İşlem Numarası Seçiniz: x\n",
      "Yine bekleriz\n"
     ]
    }
   ],
   "source": [
    "print(\"\"\"\n",
    "******************************************\n",
    "ATM Makinesine Hoşgeldiniz\n",
    "\n",
    "İşlemler: \n",
    "\n",
    "1- BAkiye Sorgulama\n",
    "2- Para Yatırma\n",
    "3- Para Çekme \n",
    "\n",
    "Progrmadan çıkmak için X tuşuna basınız. \n",
    "******************************************\n",
    "\"\"\")\n",
    "\n",
    "bakiye = 1000\n",
    "\n",
    "while True:\n",
    "    işlem = input(\"İşlem Numarası Seçiniz: \")\n",
    "\n",
    "    if (işlem == \"x\"):\n",
    "        print(\"Yine bekleriz\")\n",
    "        break\n",
    "    elif (işlem == \"1\"):\n",
    "        print(\"Bakiyeniz {} TL'dir\".format(bakiye))\n",
    "\n",
    "    elif (işlem == \"2\"):\n",
    "        miktar = int(input(\"Yatırmak istediğiniz Miktarı Giriniz: \"))\n",
    "\n",
    "        bakiye += miktar\n",
    "        print(\"Yeni Bakiyeniz {} TL'dir\".format(bakiye))\n",
    "    elif (işlem == \"3\"):\n",
    "        miktar = int(input(\"Çekmek istediğiniz Miktar Giriniz: \"))\n",
    "        bakiye2 = bakiye - miktar\n",
    "        print(\"Yeni Bakiyeniz {} TL'dir\".format(bakiye2))\n",
    "\n",
    "        if (bakiye - miktar < 0):\n",
    "            print(\"Bu işlem için yeterli bakiyeniz yoktur\")\n",
    "            continue\n",
    "    else:\n",
    "        print(\"Geçersiz İşlem\")"
   ]
  },
  {
   "cell_type": "markdown",
   "metadata": {},
   "source": [
    "# Faktoriyel Hesabı"
   ]
  },
  {
   "cell_type": "code",
   "execution_count": 3,
   "metadata": {},
   "outputs": [
    {
     "name": "stdout",
     "output_type": "stream",
     "text": [
      "\n",
      "**************************\n",
      "Faktöriyel bulma programı \n",
      "\n",
      "çıkmak için x'e basınız. \n",
      "**************************\n",
      "sayı:3\n",
      "sayının factoriyeli: 6\n",
      "sayı:q\n",
      "Program sonlandırılıyor...\n"
     ]
    }
   ],
   "source": [
    "print(\"\"\"\n",
    "**************************\n",
    "Faktöriyel bulma programı \n",
    "\n",
    "çıkmak için x'e basınız. \n",
    "**************************\"\"\")\n",
    "\n",
    "while True:\n",
    "    sayı = input(\"sayı:\")\n",
    "    if (sayı == \"q\") :\n",
    "        print(\"Program sonlandırılıyor...\")\n",
    "        break\n",
    "\n",
    "    else:\n",
    "        sayı = int(sayı)\n",
    "\n",
    "        factoriyel = 1\n",
    "\n",
    "        for i in range(2,sayı+1):\n",
    "            factoriyel *= i\n",
    "        print(\"sayının factoriyeli:\", factoriyel)\n"
   ]
  },
  {
   "cell_type": "raw",
   "metadata": {},
   "source": [
    "satır satır factoriyel hesabı"
   ]
  },
  {
   "cell_type": "code",
   "execution_count": 7,
   "metadata": {},
   "outputs": [
    {
     "name": "stdout",
     "output_type": "stream",
     "text": [
      "\n",
      "**************************\n",
      "Faktöriyel bulma programı \n",
      "\n",
      "çıkmak için x'e basınız. \n",
      "**************************\n",
      "sayı:10\n",
      "i:  2    factoriyel 1\n",
      "i:  3    factoriyel 2\n",
      "i:  4    factoriyel 6\n",
      "i:  5    factoriyel 24\n",
      "i:  6    factoriyel 120\n",
      "i:  7    factoriyel 720\n",
      "i:  8    factoriyel 5040\n",
      "i:  9    factoriyel 40320\n",
      "i:  10    factoriyel 362880\n",
      "_______________\n",
      "sayının factoriyeli: 3628800\n",
      "sayı:q\n",
      "Program sonlandırılıyor...\n"
     ]
    }
   ],
   "source": [
    "print(\"\"\"\n",
    "**************************\n",
    "Faktöriyel bulma programı \n",
    "\n",
    "çıkmak için x'e basınız. \n",
    "**************************\"\"\")\n",
    "\n",
    "while True:\n",
    "    sayı = input(\"sayı:\")\n",
    "    if (sayı == \"q\") :\n",
    "        print(\"Program sonlandırılıyor...\")\n",
    "        break\n",
    "\n",
    "    else:\n",
    "        sayı = int(sayı)\n",
    "\n",
    "        factoriyel = 1\n",
    "\n",
    "        for i in range(2,sayı+1):\n",
    "            print(\"i: \", i, \"  \", \"factoriyel\", factoriyel)\n",
    "            factoriyel *= i\n",
    "        print(\"_______________\")\n",
    "        print(\"sayının factoriyeli:\", factoriyel)\n",
    "       "
   ]
  },
  {
   "cell_type": "code",
   "execution_count": null,
   "metadata": {},
   "outputs": [],
   "source": []
  }
 ],
 "metadata": {
  "kernelspec": {
   "display_name": "Python 3 (ipykernel)",
   "language": "python",
   "name": "python3"
  },
  "language_info": {
   "codemirror_mode": {
    "name": "ipython",
    "version": 3
   },
   "file_extension": ".py",
   "mimetype": "text/x-python",
   "name": "python",
   "nbconvert_exporter": "python",
   "pygments_lexer": "ipython3",
   "version": "3.9.7"
  }
 },
 "nbformat": 4,
 "nbformat_minor": 2
}
