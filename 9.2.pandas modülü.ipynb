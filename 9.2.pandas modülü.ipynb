{
 "cells": [
  {
   "cell_type": "markdown",
   "id": "dca23f23",
   "metadata": {},
   "source": [
    "# pandas modulü "
   ]
  },
  {
   "cell_type": "raw",
   "id": "2fec6ccd",
   "metadata": {},
   "source": [
    "pandas, dataframe leri kullanmak için hızlı ve etkilidir. Avantajları: array' ler tek boyutlu dizilerdir. DataFrame'ler ise çok boyutlu dizilerdir. Özellikleri ve avantajları: \n",
    "\n",
    "1- Çeşitli veri sütunlarından oluşan MS Excel dosyası yapısındaki yapılar DataFrame' lerdir. \n",
    "\n",
    "2- csv (comma seperated values) ya da text dosyası gibi dosyalardaki verileri açıp bu dosyalardan çekilen veriler üzerine işlemler yapıp daha sonra tekrar bu dosya türlerine dönüşüm yapılabilir. \n",
    "\n",
    "3- data içinde missing value' lar olabilir. Örneğin bir işletmedeki personelin maaşları, çalışma yılları, kadro dereceleri gibi bilgilerin olduğu bir veri tablosunda baz ıpersonelin maaşlarının unutulduğunu düşünelim. Bu unutulan değerler missin value' dur. Missing value' lar ile çalışmak için pandas oldukça pratik yollar sağlamaktadır. \n",
    "\n",
    "4- datayı reshape yaparak datayı daha etkili bir şekilde kullanmak mümkündür. \n",
    "\n",
    "5- slicing ve indexing işlemleri oldukça kolaydır. \n",
    "\n",
    "6- Time Series (zamana bağlı olarak değişen datalar) data analizinde oldukça yardımcıdır. \n",
    "\n",
    "7- Hız açısından optimize edilmiş, hızlı bir kütüphanedir. \n",
    "\n",
    "Bu özellikleri ile Makine Öğrenmesinde gerekli olan en önemli kütüphanedir. "
   ]
  },
  {
   "cell_type": "code",
   "execution_count": 1,
   "id": "dcc3a280",
   "metadata": {},
   "outputs": [],
   "source": [
    "import pandas as pd # pandas' ın import edilmesi "
   ]
  },
  {
   "cell_type": "code",
   "execution_count": 2,
   "id": "bf730f5f",
   "metadata": {},
   "outputs": [
    {
     "data": {
      "text/plain": [
       "{'İSİM': ['Kaan',\n",
       "  'Murat',\n",
       "  'Andrew',\n",
       "  'Mikail',\n",
       "  'Natalie',\n",
       "  'Brooke',\n",
       "  'Sandra',\n",
       "  'Adriana'],\n",
       " 'YAŞ': [24, 24, 40, 28, 28, 32, 34, 35],\n",
       " 'MAAS': [10000, 10000, 40000, 18000, 12000, 24000, 24000, 30000]}"
      ]
     },
     "execution_count": 2,
     "metadata": {},
     "output_type": "execute_result"
    }
   ],
   "source": [
    "dictionary = {\"İSİM\": [\"Kaan\", \"Murat\", \"Andrew\", \"Mikail\", \"Natalie\", \"Brooke\", \"Sandra\", \"Adriana\"],\n",
    "             \"YAŞ\": [24, 24, 40, 28, 28, 32, 34, 35],\n",
    "             \"MAAS\": [10000, 10000, 40000, 18000, 12000, 24000, 24000, 30000]}\n",
    "dictionary"
   ]
  },
  {
   "cell_type": "code",
   "execution_count": 3,
   "id": "37590b82",
   "metadata": {},
   "outputs": [
    {
     "data": {
      "text/html": [
       "<div>\n",
       "<style scoped>\n",
       "    .dataframe tbody tr th:only-of-type {\n",
       "        vertical-align: middle;\n",
       "    }\n",
       "\n",
       "    .dataframe tbody tr th {\n",
       "        vertical-align: top;\n",
       "    }\n",
       "\n",
       "    .dataframe thead th {\n",
       "        text-align: right;\n",
       "    }\n",
       "</style>\n",
       "<table border=\"1\" class=\"dataframe\">\n",
       "  <thead>\n",
       "    <tr style=\"text-align: right;\">\n",
       "      <th></th>\n",
       "      <th>İSİM</th>\n",
       "      <th>YAŞ</th>\n",
       "      <th>MAAS</th>\n",
       "    </tr>\n",
       "  </thead>\n",
       "  <tbody>\n",
       "    <tr>\n",
       "      <th>0</th>\n",
       "      <td>Kaan</td>\n",
       "      <td>24</td>\n",
       "      <td>10000</td>\n",
       "    </tr>\n",
       "    <tr>\n",
       "      <th>1</th>\n",
       "      <td>Murat</td>\n",
       "      <td>24</td>\n",
       "      <td>10000</td>\n",
       "    </tr>\n",
       "    <tr>\n",
       "      <th>2</th>\n",
       "      <td>Andrew</td>\n",
       "      <td>40</td>\n",
       "      <td>40000</td>\n",
       "    </tr>\n",
       "    <tr>\n",
       "      <th>3</th>\n",
       "      <td>Mikail</td>\n",
       "      <td>28</td>\n",
       "      <td>18000</td>\n",
       "    </tr>\n",
       "    <tr>\n",
       "      <th>4</th>\n",
       "      <td>Natalie</td>\n",
       "      <td>28</td>\n",
       "      <td>12000</td>\n",
       "    </tr>\n",
       "    <tr>\n",
       "      <th>5</th>\n",
       "      <td>Brooke</td>\n",
       "      <td>32</td>\n",
       "      <td>24000</td>\n",
       "    </tr>\n",
       "    <tr>\n",
       "      <th>6</th>\n",
       "      <td>Sandra</td>\n",
       "      <td>34</td>\n",
       "      <td>24000</td>\n",
       "    </tr>\n",
       "    <tr>\n",
       "      <th>7</th>\n",
       "      <td>Adriana</td>\n",
       "      <td>35</td>\n",
       "      <td>30000</td>\n",
       "    </tr>\n",
       "  </tbody>\n",
       "</table>\n",
       "</div>"
      ],
      "text/plain": [
       "      İSİM  YAŞ   MAAS\n",
       "0     Kaan   24  10000\n",
       "1    Murat   24  10000\n",
       "2   Andrew   40  40000\n",
       "3   Mikail   28  18000\n",
       "4  Natalie   28  12000\n",
       "5   Brooke   32  24000\n",
       "6   Sandra   34  24000\n",
       "7  Adriana   35  30000"
      ]
     },
     "execution_count": 3,
     "metadata": {},
     "output_type": "execute_result"
    }
   ],
   "source": [
    "dataframe1 = pd.DataFrame(dictionary)\n",
    "dataframe1"
   ]
  },
  {
   "cell_type": "markdown",
   "id": "e679f787",
   "metadata": {},
   "source": [
    "# .head() "
   ]
  },
  {
   "cell_type": "raw",
   "id": "5cc813fa",
   "metadata": {},
   "source": [
    "Dataframe içindeki ilk 5 satırı ekrana yazdırır. Özellikle datanın bir dış dosyadan aktarıldığı durumlarda ve data binlerce onbinlerce veri içerdiği durumlarda datanın iiçnde neler olduğunu görmek amacıyla yani bir ön inceleme amacıyla faydalıdır. "
   ]
  },
  {
   "cell_type": "code",
   "execution_count": 4,
   "id": "79d1fb50",
   "metadata": {},
   "outputs": [
    {
     "data": {
      "text/html": [
       "<div>\n",
       "<style scoped>\n",
       "    .dataframe tbody tr th:only-of-type {\n",
       "        vertical-align: middle;\n",
       "    }\n",
       "\n",
       "    .dataframe tbody tr th {\n",
       "        vertical-align: top;\n",
       "    }\n",
       "\n",
       "    .dataframe thead th {\n",
       "        text-align: right;\n",
       "    }\n",
       "</style>\n",
       "<table border=\"1\" class=\"dataframe\">\n",
       "  <thead>\n",
       "    <tr style=\"text-align: right;\">\n",
       "      <th></th>\n",
       "      <th>İSİM</th>\n",
       "      <th>YAŞ</th>\n",
       "      <th>MAAS</th>\n",
       "    </tr>\n",
       "  </thead>\n",
       "  <tbody>\n",
       "    <tr>\n",
       "      <th>0</th>\n",
       "      <td>Kaan</td>\n",
       "      <td>24</td>\n",
       "      <td>10000</td>\n",
       "    </tr>\n",
       "    <tr>\n",
       "      <th>1</th>\n",
       "      <td>Murat</td>\n",
       "      <td>24</td>\n",
       "      <td>10000</td>\n",
       "    </tr>\n",
       "    <tr>\n",
       "      <th>2</th>\n",
       "      <td>Andrew</td>\n",
       "      <td>40</td>\n",
       "      <td>40000</td>\n",
       "    </tr>\n",
       "    <tr>\n",
       "      <th>3</th>\n",
       "      <td>Mikail</td>\n",
       "      <td>28</td>\n",
       "      <td>18000</td>\n",
       "    </tr>\n",
       "    <tr>\n",
       "      <th>4</th>\n",
       "      <td>Natalie</td>\n",
       "      <td>28</td>\n",
       "      <td>12000</td>\n",
       "    </tr>\n",
       "  </tbody>\n",
       "</table>\n",
       "</div>"
      ],
      "text/plain": [
       "      İSİM  YAŞ   MAAS\n",
       "0     Kaan   24  10000\n",
       "1    Murat   24  10000\n",
       "2   Andrew   40  40000\n",
       "3   Mikail   28  18000\n",
       "4  Natalie   28  12000"
      ]
     },
     "execution_count": 4,
     "metadata": {},
     "output_type": "execute_result"
    }
   ],
   "source": [
    "dataframe1.head()"
   ]
  },
  {
   "cell_type": "markdown",
   "id": "420da5ff",
   "metadata": {},
   "source": [
    "# .tail()"
   ]
  },
  {
   "cell_type": "raw",
   "id": "61b48995",
   "metadata": {},
   "source": [
    "Bu metot da dataframe içindeki son beş satırın görüntülenmesini sağlar. Yine ön inceleme için kullanılabilir. "
   ]
  },
  {
   "cell_type": "code",
   "execution_count": 5,
   "id": "07084273",
   "metadata": {},
   "outputs": [
    {
     "data": {
      "text/html": [
       "<div>\n",
       "<style scoped>\n",
       "    .dataframe tbody tr th:only-of-type {\n",
       "        vertical-align: middle;\n",
       "    }\n",
       "\n",
       "    .dataframe tbody tr th {\n",
       "        vertical-align: top;\n",
       "    }\n",
       "\n",
       "    .dataframe thead th {\n",
       "        text-align: right;\n",
       "    }\n",
       "</style>\n",
       "<table border=\"1\" class=\"dataframe\">\n",
       "  <thead>\n",
       "    <tr style=\"text-align: right;\">\n",
       "      <th></th>\n",
       "      <th>İSİM</th>\n",
       "      <th>YAŞ</th>\n",
       "      <th>MAAS</th>\n",
       "    </tr>\n",
       "  </thead>\n",
       "  <tbody>\n",
       "    <tr>\n",
       "      <th>3</th>\n",
       "      <td>Mikail</td>\n",
       "      <td>28</td>\n",
       "      <td>18000</td>\n",
       "    </tr>\n",
       "    <tr>\n",
       "      <th>4</th>\n",
       "      <td>Natalie</td>\n",
       "      <td>28</td>\n",
       "      <td>12000</td>\n",
       "    </tr>\n",
       "    <tr>\n",
       "      <th>5</th>\n",
       "      <td>Brooke</td>\n",
       "      <td>32</td>\n",
       "      <td>24000</td>\n",
       "    </tr>\n",
       "    <tr>\n",
       "      <th>6</th>\n",
       "      <td>Sandra</td>\n",
       "      <td>34</td>\n",
       "      <td>24000</td>\n",
       "    </tr>\n",
       "    <tr>\n",
       "      <th>7</th>\n",
       "      <td>Adriana</td>\n",
       "      <td>35</td>\n",
       "      <td>30000</td>\n",
       "    </tr>\n",
       "  </tbody>\n",
       "</table>\n",
       "</div>"
      ],
      "text/plain": [
       "      İSİM  YAŞ   MAAS\n",
       "3   Mikail   28  18000\n",
       "4  Natalie   28  12000\n",
       "5   Brooke   32  24000\n",
       "6   Sandra   34  24000\n",
       "7  Adriana   35  30000"
      ]
     },
     "execution_count": 5,
     "metadata": {},
     "output_type": "execute_result"
    }
   ],
   "source": [
    "dataframe1.tail()"
   ]
  },
  {
   "cell_type": "code",
   "execution_count": 6,
   "id": "e25b3342",
   "metadata": {},
   "outputs": [
    {
     "data": {
      "text/html": [
       "<div>\n",
       "<style scoped>\n",
       "    .dataframe tbody tr th:only-of-type {\n",
       "        vertical-align: middle;\n",
       "    }\n",
       "\n",
       "    .dataframe tbody tr th {\n",
       "        vertical-align: top;\n",
       "    }\n",
       "\n",
       "    .dataframe thead th {\n",
       "        text-align: right;\n",
       "    }\n",
       "</style>\n",
       "<table border=\"1\" class=\"dataframe\">\n",
       "  <thead>\n",
       "    <tr style=\"text-align: right;\">\n",
       "      <th></th>\n",
       "      <th>İSİM</th>\n",
       "      <th>YAŞ</th>\n",
       "      <th>MAAS</th>\n",
       "    </tr>\n",
       "  </thead>\n",
       "  <tbody>\n",
       "    <tr>\n",
       "      <th>0</th>\n",
       "      <td>Kaan</td>\n",
       "      <td>24</td>\n",
       "      <td>10000</td>\n",
       "    </tr>\n",
       "    <tr>\n",
       "      <th>1</th>\n",
       "      <td>Murat</td>\n",
       "      <td>24</td>\n",
       "      <td>10000</td>\n",
       "    </tr>\n",
       "    <tr>\n",
       "      <th>2</th>\n",
       "      <td>Andrew</td>\n",
       "      <td>40</td>\n",
       "      <td>40000</td>\n",
       "    </tr>\n",
       "    <tr>\n",
       "      <th>3</th>\n",
       "      <td>Mikail</td>\n",
       "      <td>28</td>\n",
       "      <td>18000</td>\n",
       "    </tr>\n",
       "    <tr>\n",
       "      <th>4</th>\n",
       "      <td>Natalie</td>\n",
       "      <td>28</td>\n",
       "      <td>12000</td>\n",
       "    </tr>\n",
       "    <tr>\n",
       "      <th>5</th>\n",
       "      <td>Brooke</td>\n",
       "      <td>32</td>\n",
       "      <td>24000</td>\n",
       "    </tr>\n",
       "    <tr>\n",
       "      <th>6</th>\n",
       "      <td>Sandra</td>\n",
       "      <td>34</td>\n",
       "      <td>24000</td>\n",
       "    </tr>\n",
       "  </tbody>\n",
       "</table>\n",
       "</div>"
      ],
      "text/plain": [
       "      İSİM  YAŞ   MAAS\n",
       "0     Kaan   24  10000\n",
       "1    Murat   24  10000\n",
       "2   Andrew   40  40000\n",
       "3   Mikail   28  18000\n",
       "4  Natalie   28  12000\n",
       "5   Brooke   32  24000\n",
       "6   Sandra   34  24000"
      ]
     },
     "execution_count": 6,
     "metadata": {},
     "output_type": "execute_result"
    }
   ],
   "source": [
    "dataframe1.head(7) # ilk 7 satırı görmek amacıyla parametre olarak verilir. "
   ]
  },
  {
   "cell_type": "markdown",
   "id": "a054dde8",
   "metadata": {},
   "source": [
    "# pandas basic"
   ]
  },
  {
   "cell_type": "code",
   "execution_count": 7,
   "id": "9311c713",
   "metadata": {},
   "outputs": [
    {
     "data": {
      "text/plain": [
       "Index(['İSİM', 'YAŞ', 'MAAS'], dtype='object')"
      ]
     },
     "execution_count": 7,
     "metadata": {},
     "output_type": "execute_result"
    }
   ],
   "source": [
    "dataframe1.columns"
   ]
  },
  {
   "cell_type": "code",
   "execution_count": 8,
   "id": "f341fa4e",
   "metadata": {},
   "outputs": [
    {
     "name": "stdout",
     "output_type": "stream",
     "text": [
      "<class 'pandas.core.frame.DataFrame'>\n",
      "RangeIndex: 8 entries, 0 to 7\n",
      "Data columns (total 3 columns):\n",
      " #   Column  Non-Null Count  Dtype \n",
      "---  ------  --------------  ----- \n",
      " 0   İSİM    8 non-null      object\n",
      " 1   YAŞ     8 non-null      int64 \n",
      " 2   MAAS    8 non-null      int64 \n",
      "dtypes: int64(2), object(1)\n",
      "memory usage: 320.0+ bytes\n"
     ]
    }
   ],
   "source": [
    "dataframe1.info() # dataframe hakkında bilgi verir. \n",
    "\n",
    "# object yeni bir veri tipi dğeildir, string e eşdeğerdir. "
   ]
  },
  {
   "cell_type": "code",
   "execution_count": 9,
   "id": "b84475e1",
   "metadata": {},
   "outputs": [
    {
     "data": {
      "text/plain": [
       "İSİM    object\n",
       "YAŞ      int64\n",
       "MAAS     int64\n",
       "dtype: object"
      ]
     },
     "execution_count": 9,
     "metadata": {},
     "output_type": "execute_result"
    }
   ],
   "source": [
    "dataframe1.dtypes # sütunların veri tipini yazdırır. "
   ]
  },
  {
   "cell_type": "code",
   "execution_count": 10,
   "id": "7bb97fe6",
   "metadata": {},
   "outputs": [
    {
     "data": {
      "text/html": [
       "<div>\n",
       "<style scoped>\n",
       "    .dataframe tbody tr th:only-of-type {\n",
       "        vertical-align: middle;\n",
       "    }\n",
       "\n",
       "    .dataframe tbody tr th {\n",
       "        vertical-align: top;\n",
       "    }\n",
       "\n",
       "    .dataframe thead th {\n",
       "        text-align: right;\n",
       "    }\n",
       "</style>\n",
       "<table border=\"1\" class=\"dataframe\">\n",
       "  <thead>\n",
       "    <tr style=\"text-align: right;\">\n",
       "      <th></th>\n",
       "      <th>YAŞ</th>\n",
       "      <th>MAAS</th>\n",
       "    </tr>\n",
       "  </thead>\n",
       "  <tbody>\n",
       "    <tr>\n",
       "      <th>count</th>\n",
       "      <td>8.000000</td>\n",
       "      <td>8.000000</td>\n",
       "    </tr>\n",
       "    <tr>\n",
       "      <th>mean</th>\n",
       "      <td>30.625000</td>\n",
       "      <td>21000.000000</td>\n",
       "    </tr>\n",
       "    <tr>\n",
       "      <th>std</th>\n",
       "      <td>5.629958</td>\n",
       "      <td>10636.863125</td>\n",
       "    </tr>\n",
       "    <tr>\n",
       "      <th>min</th>\n",
       "      <td>24.000000</td>\n",
       "      <td>10000.000000</td>\n",
       "    </tr>\n",
       "    <tr>\n",
       "      <th>25%</th>\n",
       "      <td>27.000000</td>\n",
       "      <td>11500.000000</td>\n",
       "    </tr>\n",
       "    <tr>\n",
       "      <th>50%</th>\n",
       "      <td>30.000000</td>\n",
       "      <td>21000.000000</td>\n",
       "    </tr>\n",
       "    <tr>\n",
       "      <th>75%</th>\n",
       "      <td>34.250000</td>\n",
       "      <td>25500.000000</td>\n",
       "    </tr>\n",
       "    <tr>\n",
       "      <th>max</th>\n",
       "      <td>40.000000</td>\n",
       "      <td>40000.000000</td>\n",
       "    </tr>\n",
       "  </tbody>\n",
       "</table>\n",
       "</div>"
      ],
      "text/plain": [
       "             YAŞ          MAAS\n",
       "count   8.000000      8.000000\n",
       "mean   30.625000  21000.000000\n",
       "std     5.629958  10636.863125\n",
       "min    24.000000  10000.000000\n",
       "25%    27.000000  11500.000000\n",
       "50%    30.000000  21000.000000\n",
       "75%    34.250000  25500.000000\n",
       "max    40.000000  40000.000000"
      ]
     },
     "execution_count": 10,
     "metadata": {},
     "output_type": "execute_result"
    }
   ],
   "source": [
    "dataframe1.describe() #artık yavaş yavaş data analizine giriyoruz. \n",
    "\n",
    "# describe, sadece nümerik yani sayısal feature (özellik-öznitelik) leri alır. "
   ]
  },
  {
   "cell_type": "markdown",
   "id": "7be91350",
   "metadata": {},
   "source": [
    "# indexing and slicing"
   ]
  },
  {
   "cell_type": "code",
   "execution_count": 11,
   "id": "1a1863d8",
   "metadata": {},
   "outputs": [
    {
     "data": {
      "text/plain": [
       "0       Kaan\n",
       "1      Murat\n",
       "2     Andrew\n",
       "3     Mikail\n",
       "4    Natalie\n",
       "5     Brooke\n",
       "6     Sandra\n",
       "7    Adriana\n",
       "Name: İSİM, dtype: object"
      ]
     },
     "execution_count": 11,
     "metadata": {},
     "output_type": "execute_result"
    }
   ],
   "source": [
    "dataframe1[\"İSİM\"]"
   ]
  },
  {
   "cell_type": "raw",
   "id": "1afc944b",
   "metadata": {},
   "source": [
    "dataframe verileri her zaman indeksli olarak verilir. indexleri manipüle etmek ayrı bir iştir. "
   ]
  },
  {
   "cell_type": "code",
   "execution_count": 12,
   "id": "b46ee5de",
   "metadata": {},
   "outputs": [
    {
     "data": {
      "text/plain": [
       "0    24\n",
       "1    24\n",
       "2    40\n",
       "3    28\n",
       "4    28\n",
       "5    32\n",
       "6    34\n",
       "7    35\n",
       "Name: YAŞ, dtype: int64"
      ]
     },
     "execution_count": 12,
     "metadata": {},
     "output_type": "execute_result"
    }
   ],
   "source": [
    "dataframe1[\"YAŞ\"]"
   ]
  },
  {
   "cell_type": "code",
   "execution_count": 13,
   "id": "bdcadc72",
   "metadata": {},
   "outputs": [
    {
     "data": {
      "text/plain": [
       "0    24\n",
       "1    24\n",
       "2    40\n",
       "3    28\n",
       "4    28\n",
       "5    32\n",
       "6    34\n",
       "7    35\n",
       "Name: YAŞ, dtype: int64"
      ]
     },
     "execution_count": 13,
     "metadata": {},
     "output_type": "execute_result"
    }
   ],
   "source": [
    "dataframe1.YAŞ"
   ]
  },
  {
   "cell_type": "raw",
   "id": "48436b7d",
   "metadata": {},
   "source": [
    "var olan df ye yeni veri eklemek"
   ]
  },
  {
   "cell_type": "code",
   "execution_count": 14,
   "id": "8431f2fe",
   "metadata": {},
   "outputs": [
    {
     "data": {
      "text/html": [
       "<div>\n",
       "<style scoped>\n",
       "    .dataframe tbody tr th:only-of-type {\n",
       "        vertical-align: middle;\n",
       "    }\n",
       "\n",
       "    .dataframe tbody tr th {\n",
       "        vertical-align: top;\n",
       "    }\n",
       "\n",
       "    .dataframe thead th {\n",
       "        text-align: right;\n",
       "    }\n",
       "</style>\n",
       "<table border=\"1\" class=\"dataframe\">\n",
       "  <thead>\n",
       "    <tr style=\"text-align: right;\">\n",
       "      <th></th>\n",
       "      <th>İSİM</th>\n",
       "      <th>YAŞ</th>\n",
       "      <th>MAAS</th>\n",
       "      <th>new feature</th>\n",
       "    </tr>\n",
       "  </thead>\n",
       "  <tbody>\n",
       "    <tr>\n",
       "      <th>0</th>\n",
       "      <td>Kaan</td>\n",
       "      <td>24</td>\n",
       "      <td>10000</td>\n",
       "      <td>1</td>\n",
       "    </tr>\n",
       "    <tr>\n",
       "      <th>1</th>\n",
       "      <td>Murat</td>\n",
       "      <td>24</td>\n",
       "      <td>10000</td>\n",
       "      <td>2</td>\n",
       "    </tr>\n",
       "    <tr>\n",
       "      <th>2</th>\n",
       "      <td>Andrew</td>\n",
       "      <td>40</td>\n",
       "      <td>40000</td>\n",
       "      <td>3</td>\n",
       "    </tr>\n",
       "    <tr>\n",
       "      <th>3</th>\n",
       "      <td>Mikail</td>\n",
       "      <td>28</td>\n",
       "      <td>18000</td>\n",
       "      <td>4</td>\n",
       "    </tr>\n",
       "    <tr>\n",
       "      <th>4</th>\n",
       "      <td>Natalie</td>\n",
       "      <td>28</td>\n",
       "      <td>12000</td>\n",
       "      <td>5</td>\n",
       "    </tr>\n",
       "    <tr>\n",
       "      <th>5</th>\n",
       "      <td>Brooke</td>\n",
       "      <td>32</td>\n",
       "      <td>24000</td>\n",
       "      <td>6</td>\n",
       "    </tr>\n",
       "    <tr>\n",
       "      <th>6</th>\n",
       "      <td>Sandra</td>\n",
       "      <td>34</td>\n",
       "      <td>24000</td>\n",
       "      <td>7</td>\n",
       "    </tr>\n",
       "    <tr>\n",
       "      <th>7</th>\n",
       "      <td>Adriana</td>\n",
       "      <td>35</td>\n",
       "      <td>30000</td>\n",
       "      <td>8</td>\n",
       "    </tr>\n",
       "  </tbody>\n",
       "</table>\n",
       "</div>"
      ],
      "text/plain": [
       "      İSİM  YAŞ   MAAS  new feature\n",
       "0     Kaan   24  10000            1\n",
       "1    Murat   24  10000            2\n",
       "2   Andrew   40  40000            3\n",
       "3   Mikail   28  18000            4\n",
       "4  Natalie   28  12000            5\n",
       "5   Brooke   32  24000            6\n",
       "6   Sandra   34  24000            7\n",
       "7  Adriana   35  30000            8"
      ]
     },
     "execution_count": 14,
     "metadata": {},
     "output_type": "execute_result"
    }
   ],
   "source": [
    "dataframe1[\"new feature\"] = [1, 2, 3, 4, 5, 6, 7, 8]\n",
    "dataframe1"
   ]
  },
  {
   "cell_type": "code",
   "execution_count": 15,
   "id": "b72b4870",
   "metadata": {},
   "outputs": [],
   "source": [
    "# dataframe1.new feature "
   ]
  },
  {
   "cell_type": "raw",
   "id": "769a1fcc",
   "metadata": {},
   "source": [
    "sütun ismi bu şekilde olsa da arada boşluk bırakarak atring tanımlanmadığı için .new feature  hata verecektir. Bu sebepler yeni bir özellik tanımlarken iki kelimeden oluşyorsa ya alt çizgi kullanılması önerilir ya da yeniFeature gibi arada boşluk bırakmadan yazılması önerilir. "
   ]
  },
  {
   "cell_type": "markdown",
   "id": "4dea340e",
   "metadata": {},
   "source": [
    "# .loc[]"
   ]
  },
  {
   "cell_type": "raw",
   "id": "d396c613",
   "metadata": {},
   "source": [
    ".loc[]  location anlamındadır. Daha sonra .iloc[] göreceğiz. iloc' ta integer LOC anlamındadır. "
   ]
  },
  {
   "cell_type": "code",
   "execution_count": 16,
   "id": "163faee3",
   "metadata": {},
   "outputs": [
    {
     "data": {
      "text/plain": [
       "0    24\n",
       "1    24\n",
       "2    40\n",
       "3    28\n",
       "4    28\n",
       "5    32\n",
       "6    34\n",
       "7    35\n",
       "Name: YAŞ, dtype: int64"
      ]
     },
     "execution_count": 16,
     "metadata": {},
     "output_type": "execute_result"
    }
   ],
   "source": [
    "dataframe1.loc[:, \"YAŞ\"] #tüm satırları aldık ve istenen sütunu aldık. "
   ]
  },
  {
   "cell_type": "code",
   "execution_count": 17,
   "id": "9cfab012",
   "metadata": {},
   "outputs": [
    {
     "data": {
      "text/plain": [
       "0    24\n",
       "1    24\n",
       "2    40\n",
       "3    28\n",
       "Name: YAŞ, dtype: int64"
      ]
     },
     "execution_count": 17,
     "metadata": {},
     "output_type": "execute_result"
    }
   ],
   "source": [
    "dataframe1.loc[:3, \"YAŞ\"] "
   ]
  },
  {
   "cell_type": "raw",
   "id": "c76726f9",
   "metadata": {},
   "source": [
    ":3 ile 3' e kadar çağırdık fakat önemli bir ayrıntı. list veri tipinde ve numpy da son indis değeri exclusive yani dahil değildi. Fakat pandas da bu inclusive' dir yani dahildir. Bu nedenle de dikkat edilirse 3. indisi de aldı."
   ]
  },
  {
   "cell_type": "code",
   "execution_count": 18,
   "id": "2899c3f3",
   "metadata": {},
   "outputs": [
    {
     "data": {
      "text/html": [
       "<div>\n",
       "<style scoped>\n",
       "    .dataframe tbody tr th:only-of-type {\n",
       "        vertical-align: middle;\n",
       "    }\n",
       "\n",
       "    .dataframe tbody tr th {\n",
       "        vertical-align: top;\n",
       "    }\n",
       "\n",
       "    .dataframe thead th {\n",
       "        text-align: right;\n",
       "    }\n",
       "</style>\n",
       "<table border=\"1\" class=\"dataframe\">\n",
       "  <thead>\n",
       "    <tr style=\"text-align: right;\">\n",
       "      <th></th>\n",
       "      <th>İSİM</th>\n",
       "      <th>YAŞ</th>\n",
       "      <th>MAAS</th>\n",
       "    </tr>\n",
       "  </thead>\n",
       "  <tbody>\n",
       "    <tr>\n",
       "      <th>0</th>\n",
       "      <td>Kaan</td>\n",
       "      <td>24</td>\n",
       "      <td>10000</td>\n",
       "    </tr>\n",
       "    <tr>\n",
       "      <th>1</th>\n",
       "      <td>Murat</td>\n",
       "      <td>24</td>\n",
       "      <td>10000</td>\n",
       "    </tr>\n",
       "    <tr>\n",
       "      <th>2</th>\n",
       "      <td>Andrew</td>\n",
       "      <td>40</td>\n",
       "      <td>40000</td>\n",
       "    </tr>\n",
       "    <tr>\n",
       "      <th>3</th>\n",
       "      <td>Mikail</td>\n",
       "      <td>28</td>\n",
       "      <td>18000</td>\n",
       "    </tr>\n",
       "  </tbody>\n",
       "</table>\n",
       "</div>"
      ],
      "text/plain": [
       "     İSİM  YAŞ   MAAS\n",
       "0    Kaan   24  10000\n",
       "1   Murat   24  10000\n",
       "2  Andrew   40  40000\n",
       "3  Mikail   28  18000"
      ]
     },
     "execution_count": 18,
     "metadata": {},
     "output_type": "execute_result"
    }
   ],
   "source": [
    "dataframe1.loc[:3, \"İSİM\":\"MAAS\"] #ilk dört satır ve İSİM' den MAAS' a kadar olan data "
   ]
  },
  {
   "cell_type": "code",
   "execution_count": 19,
   "id": "5963345c",
   "metadata": {},
   "outputs": [
    {
     "data": {
      "text/html": [
       "<div>\n",
       "<style scoped>\n",
       "    .dataframe tbody tr th:only-of-type {\n",
       "        vertical-align: middle;\n",
       "    }\n",
       "\n",
       "    .dataframe tbody tr th {\n",
       "        vertical-align: top;\n",
       "    }\n",
       "\n",
       "    .dataframe thead th {\n",
       "        text-align: right;\n",
       "    }\n",
       "</style>\n",
       "<table border=\"1\" class=\"dataframe\">\n",
       "  <thead>\n",
       "    <tr style=\"text-align: right;\">\n",
       "      <th></th>\n",
       "      <th>İSİM</th>\n",
       "      <th>YAŞ</th>\n",
       "      <th>MAAS</th>\n",
       "      <th>new feature</th>\n",
       "    </tr>\n",
       "  </thead>\n",
       "  <tbody>\n",
       "    <tr>\n",
       "      <th>7</th>\n",
       "      <td>Adriana</td>\n",
       "      <td>35</td>\n",
       "      <td>30000</td>\n",
       "      <td>8</td>\n",
       "    </tr>\n",
       "    <tr>\n",
       "      <th>6</th>\n",
       "      <td>Sandra</td>\n",
       "      <td>34</td>\n",
       "      <td>24000</td>\n",
       "      <td>7</td>\n",
       "    </tr>\n",
       "    <tr>\n",
       "      <th>5</th>\n",
       "      <td>Brooke</td>\n",
       "      <td>32</td>\n",
       "      <td>24000</td>\n",
       "      <td>6</td>\n",
       "    </tr>\n",
       "    <tr>\n",
       "      <th>4</th>\n",
       "      <td>Natalie</td>\n",
       "      <td>28</td>\n",
       "      <td>12000</td>\n",
       "      <td>5</td>\n",
       "    </tr>\n",
       "    <tr>\n",
       "      <th>3</th>\n",
       "      <td>Mikail</td>\n",
       "      <td>28</td>\n",
       "      <td>18000</td>\n",
       "      <td>4</td>\n",
       "    </tr>\n",
       "    <tr>\n",
       "      <th>2</th>\n",
       "      <td>Andrew</td>\n",
       "      <td>40</td>\n",
       "      <td>40000</td>\n",
       "      <td>3</td>\n",
       "    </tr>\n",
       "    <tr>\n",
       "      <th>1</th>\n",
       "      <td>Murat</td>\n",
       "      <td>24</td>\n",
       "      <td>10000</td>\n",
       "      <td>2</td>\n",
       "    </tr>\n",
       "    <tr>\n",
       "      <th>0</th>\n",
       "      <td>Kaan</td>\n",
       "      <td>24</td>\n",
       "      <td>10000</td>\n",
       "      <td>1</td>\n",
       "    </tr>\n",
       "  </tbody>\n",
       "</table>\n",
       "</div>"
      ],
      "text/plain": [
       "      İSİM  YAŞ   MAAS  new feature\n",
       "7  Adriana   35  30000            8\n",
       "6   Sandra   34  24000            7\n",
       "5   Brooke   32  24000            6\n",
       "4  Natalie   28  12000            5\n",
       "3   Mikail   28  18000            4\n",
       "2   Andrew   40  40000            3\n",
       "1    Murat   24  10000            2\n",
       "0     Kaan   24  10000            1"
      ]
     },
     "execution_count": 19,
     "metadata": {},
     "output_type": "execute_result"
    }
   ],
   "source": [
    "dataframe1.loc[::-1,:]"
   ]
  },
  {
   "cell_type": "code",
   "execution_count": 20,
   "id": "75eabdfd",
   "metadata": {},
   "outputs": [
    {
     "data": {
      "text/html": [
       "<div>\n",
       "<style scoped>\n",
       "    .dataframe tbody tr th:only-of-type {\n",
       "        vertical-align: middle;\n",
       "    }\n",
       "\n",
       "    .dataframe tbody tr th {\n",
       "        vertical-align: top;\n",
       "    }\n",
       "\n",
       "    .dataframe thead th {\n",
       "        text-align: right;\n",
       "    }\n",
       "</style>\n",
       "<table border=\"1\" class=\"dataframe\">\n",
       "  <thead>\n",
       "    <tr style=\"text-align: right;\">\n",
       "      <th></th>\n",
       "      <th>İSİM</th>\n",
       "      <th>YAŞ</th>\n",
       "      <th>MAAS</th>\n",
       "    </tr>\n",
       "  </thead>\n",
       "  <tbody>\n",
       "    <tr>\n",
       "      <th>0</th>\n",
       "      <td>Kaan</td>\n",
       "      <td>24</td>\n",
       "      <td>10000</td>\n",
       "    </tr>\n",
       "    <tr>\n",
       "      <th>1</th>\n",
       "      <td>Murat</td>\n",
       "      <td>24</td>\n",
       "      <td>10000</td>\n",
       "    </tr>\n",
       "    <tr>\n",
       "      <th>2</th>\n",
       "      <td>Andrew</td>\n",
       "      <td>40</td>\n",
       "      <td>40000</td>\n",
       "    </tr>\n",
       "    <tr>\n",
       "      <th>3</th>\n",
       "      <td>Mikail</td>\n",
       "      <td>28</td>\n",
       "      <td>18000</td>\n",
       "    </tr>\n",
       "    <tr>\n",
       "      <th>4</th>\n",
       "      <td>Natalie</td>\n",
       "      <td>28</td>\n",
       "      <td>12000</td>\n",
       "    </tr>\n",
       "    <tr>\n",
       "      <th>5</th>\n",
       "      <td>Brooke</td>\n",
       "      <td>32</td>\n",
       "      <td>24000</td>\n",
       "    </tr>\n",
       "    <tr>\n",
       "      <th>6</th>\n",
       "      <td>Sandra</td>\n",
       "      <td>34</td>\n",
       "      <td>24000</td>\n",
       "    </tr>\n",
       "    <tr>\n",
       "      <th>7</th>\n",
       "      <td>Adriana</td>\n",
       "      <td>35</td>\n",
       "      <td>30000</td>\n",
       "    </tr>\n",
       "  </tbody>\n",
       "</table>\n",
       "</div>"
      ],
      "text/plain": [
       "      İSİM  YAŞ   MAAS\n",
       "0     Kaan   24  10000\n",
       "1    Murat   24  10000\n",
       "2   Andrew   40  40000\n",
       "3   Mikail   28  18000\n",
       "4  Natalie   28  12000\n",
       "5   Brooke   32  24000\n",
       "6   Sandra   34  24000\n",
       "7  Adriana   35  30000"
      ]
     },
     "execution_count": 20,
     "metadata": {},
     "output_type": "execute_result"
    }
   ],
   "source": [
    "dataframe1.loc[:, : \"MAAS\"] # Tüm satırlar ve MAAS dahil tüm sütunlar "
   ]
  },
  {
   "cell_type": "code",
   "execution_count": 21,
   "id": "a16444d1",
   "metadata": {},
   "outputs": [
    {
     "data": {
      "text/plain": [
       "0       Kaan\n",
       "1      Murat\n",
       "2     Andrew\n",
       "3     Mikail\n",
       "4    Natalie\n",
       "5     Brooke\n",
       "6     Sandra\n",
       "7    Adriana\n",
       "Name: İSİM, dtype: object"
      ]
     },
     "execution_count": 21,
     "metadata": {},
     "output_type": "execute_result"
    }
   ],
   "source": [
    "dataframe1.loc[:, \"İSİM\"]"
   ]
  },
  {
   "cell_type": "code",
   "execution_count": 22,
   "id": "c980de19",
   "metadata": {},
   "outputs": [
    {
     "data": {
      "text/plain": [
       "0       Kaan\n",
       "1      Murat\n",
       "2     Andrew\n",
       "3     Mikail\n",
       "4    Natalie\n",
       "5     Brooke\n",
       "6     Sandra\n",
       "7    Adriana\n",
       "Name: İSİM, dtype: object"
      ]
     },
     "execution_count": 22,
     "metadata": {},
     "output_type": "execute_result"
    }
   ],
   "source": [
    "dataframe1.iloc[:, 0] #İSİM sütunu, sıfırıncı sütun. iloc ile sütun nosu girerek çağırdık. "
   ]
  },
  {
   "cell_type": "markdown",
   "id": "7356e77b",
   "metadata": {},
   "source": [
    "# Filtering (Filtreleme)"
   ]
  },
  {
   "cell_type": "raw",
   "id": "1ea7185c",
   "metadata": {},
   "source": [
    "DataFrame verilerini boolean veri tipinde işlemek mümkündür. (True / False) Böylece belirli kurallar dahilinde veriyi filtre etmek mümkün olacaktır. "
   ]
  },
  {
   "cell_type": "code",
   "execution_count": 23,
   "id": "501659b9",
   "metadata": {},
   "outputs": [],
   "source": [
    "# Örneğin, maaşı 15000 liranın üzerinde olan kişileri bulalım (dataframe1' den)"
   ]
  },
  {
   "cell_type": "code",
   "execution_count": 24,
   "id": "f7006092",
   "metadata": {},
   "outputs": [
    {
     "data": {
      "text/html": [
       "<div>\n",
       "<style scoped>\n",
       "    .dataframe tbody tr th:only-of-type {\n",
       "        vertical-align: middle;\n",
       "    }\n",
       "\n",
       "    .dataframe tbody tr th {\n",
       "        vertical-align: top;\n",
       "    }\n",
       "\n",
       "    .dataframe thead th {\n",
       "        text-align: right;\n",
       "    }\n",
       "</style>\n",
       "<table border=\"1\" class=\"dataframe\">\n",
       "  <thead>\n",
       "    <tr style=\"text-align: right;\">\n",
       "      <th></th>\n",
       "      <th>İSİM</th>\n",
       "      <th>YAŞ</th>\n",
       "      <th>MAAS</th>\n",
       "      <th>new feature</th>\n",
       "    </tr>\n",
       "  </thead>\n",
       "  <tbody>\n",
       "    <tr>\n",
       "      <th>0</th>\n",
       "      <td>Kaan</td>\n",
       "      <td>24</td>\n",
       "      <td>10000</td>\n",
       "      <td>1</td>\n",
       "    </tr>\n",
       "    <tr>\n",
       "      <th>1</th>\n",
       "      <td>Murat</td>\n",
       "      <td>24</td>\n",
       "      <td>10000</td>\n",
       "      <td>2</td>\n",
       "    </tr>\n",
       "    <tr>\n",
       "      <th>2</th>\n",
       "      <td>Andrew</td>\n",
       "      <td>40</td>\n",
       "      <td>40000</td>\n",
       "      <td>3</td>\n",
       "    </tr>\n",
       "    <tr>\n",
       "      <th>3</th>\n",
       "      <td>Mikail</td>\n",
       "      <td>28</td>\n",
       "      <td>18000</td>\n",
       "      <td>4</td>\n",
       "    </tr>\n",
       "    <tr>\n",
       "      <th>4</th>\n",
       "      <td>Natalie</td>\n",
       "      <td>28</td>\n",
       "      <td>12000</td>\n",
       "      <td>5</td>\n",
       "    </tr>\n",
       "    <tr>\n",
       "      <th>5</th>\n",
       "      <td>Brooke</td>\n",
       "      <td>32</td>\n",
       "      <td>24000</td>\n",
       "      <td>6</td>\n",
       "    </tr>\n",
       "    <tr>\n",
       "      <th>6</th>\n",
       "      <td>Sandra</td>\n",
       "      <td>34</td>\n",
       "      <td>24000</td>\n",
       "      <td>7</td>\n",
       "    </tr>\n",
       "    <tr>\n",
       "      <th>7</th>\n",
       "      <td>Adriana</td>\n",
       "      <td>35</td>\n",
       "      <td>30000</td>\n",
       "      <td>8</td>\n",
       "    </tr>\n",
       "  </tbody>\n",
       "</table>\n",
       "</div>"
      ],
      "text/plain": [
       "      İSİM  YAŞ   MAAS  new feature\n",
       "0     Kaan   24  10000            1\n",
       "1    Murat   24  10000            2\n",
       "2   Andrew   40  40000            3\n",
       "3   Mikail   28  18000            4\n",
       "4  Natalie   28  12000            5\n",
       "5   Brooke   32  24000            6\n",
       "6   Sandra   34  24000            7\n",
       "7  Adriana   35  30000            8"
      ]
     },
     "execution_count": 24,
     "metadata": {},
     "output_type": "execute_result"
    }
   ],
   "source": [
    "dataframe1"
   ]
  },
  {
   "cell_type": "code",
   "execution_count": 25,
   "id": "f8349cfc",
   "metadata": {},
   "outputs": [
    {
     "data": {
      "text/plain": [
       "0    False\n",
       "1    False\n",
       "2     True\n",
       "3     True\n",
       "4    False\n",
       "5     True\n",
       "6     True\n",
       "7     True\n",
       "Name: MAAS, dtype: bool"
      ]
     },
     "execution_count": 25,
     "metadata": {},
     "output_type": "execute_result"
    }
   ],
   "source": [
    "filter1 = dataframe1.MAAS > 15000\n",
    "filter1"
   ]
  },
  {
   "cell_type": "code",
   "execution_count": 26,
   "id": "1ba51366",
   "metadata": {},
   "outputs": [
    {
     "data": {
      "text/plain": [
       "pandas.core.series.Series"
      ]
     },
     "execution_count": 26,
     "metadata": {},
     "output_type": "execute_result"
    }
   ],
   "source": [
    "type(filter1)"
   ]
  },
  {
   "cell_type": "code",
   "execution_count": 27,
   "id": "12b06038",
   "metadata": {},
   "outputs": [
    {
     "data": {
      "text/html": [
       "<div>\n",
       "<style scoped>\n",
       "    .dataframe tbody tr th:only-of-type {\n",
       "        vertical-align: middle;\n",
       "    }\n",
       "\n",
       "    .dataframe tbody tr th {\n",
       "        vertical-align: top;\n",
       "    }\n",
       "\n",
       "    .dataframe thead th {\n",
       "        text-align: right;\n",
       "    }\n",
       "</style>\n",
       "<table border=\"1\" class=\"dataframe\">\n",
       "  <thead>\n",
       "    <tr style=\"text-align: right;\">\n",
       "      <th></th>\n",
       "      <th>İSİM</th>\n",
       "      <th>YAŞ</th>\n",
       "      <th>MAAS</th>\n",
       "      <th>new feature</th>\n",
       "    </tr>\n",
       "  </thead>\n",
       "  <tbody>\n",
       "    <tr>\n",
       "      <th>2</th>\n",
       "      <td>Andrew</td>\n",
       "      <td>40</td>\n",
       "      <td>40000</td>\n",
       "      <td>3</td>\n",
       "    </tr>\n",
       "    <tr>\n",
       "      <th>3</th>\n",
       "      <td>Mikail</td>\n",
       "      <td>28</td>\n",
       "      <td>18000</td>\n",
       "      <td>4</td>\n",
       "    </tr>\n",
       "    <tr>\n",
       "      <th>5</th>\n",
       "      <td>Brooke</td>\n",
       "      <td>32</td>\n",
       "      <td>24000</td>\n",
       "      <td>6</td>\n",
       "    </tr>\n",
       "    <tr>\n",
       "      <th>6</th>\n",
       "      <td>Sandra</td>\n",
       "      <td>34</td>\n",
       "      <td>24000</td>\n",
       "      <td>7</td>\n",
       "    </tr>\n",
       "    <tr>\n",
       "      <th>7</th>\n",
       "      <td>Adriana</td>\n",
       "      <td>35</td>\n",
       "      <td>30000</td>\n",
       "      <td>8</td>\n",
       "    </tr>\n",
       "  </tbody>\n",
       "</table>\n",
       "</div>"
      ],
      "text/plain": [
       "      İSİM  YAŞ   MAAS  new feature\n",
       "2   Andrew   40  40000            3\n",
       "3   Mikail   28  18000            4\n",
       "5   Brooke   32  24000            6\n",
       "6   Sandra   34  24000            7\n",
       "7  Adriana   35  30000            8"
      ]
     },
     "execution_count": 27,
     "metadata": {},
     "output_type": "execute_result"
    }
   ],
   "source": [
    "filtered_data = dataframe1[filter1]\n",
    "filtered_data"
   ]
  },
  {
   "cell_type": "code",
   "execution_count": 28,
   "id": "a5976172",
   "metadata": {},
   "outputs": [],
   "source": [
    "# maaşı 15000' in üzerinde olan ve yaşı 35' in üstünde olanları filtreleyebilir miyiz ? "
   ]
  },
  {
   "cell_type": "code",
   "execution_count": 29,
   "id": "12e3aedf",
   "metadata": {},
   "outputs": [
    {
     "data": {
      "text/plain": [
       "0    False\n",
       "1    False\n",
       "2     True\n",
       "3    False\n",
       "4    False\n",
       "5    False\n",
       "6    False\n",
       "7    False\n",
       "Name: YAŞ, dtype: bool"
      ]
     },
     "execution_count": 29,
     "metadata": {},
     "output_type": "execute_result"
    }
   ],
   "source": [
    "filter2 = dataframe1.YAŞ > 35\n",
    "filter2"
   ]
  },
  {
   "cell_type": "code",
   "execution_count": 30,
   "id": "c1445696",
   "metadata": {},
   "outputs": [
    {
     "data": {
      "text/html": [
       "<div>\n",
       "<style scoped>\n",
       "    .dataframe tbody tr th:only-of-type {\n",
       "        vertical-align: middle;\n",
       "    }\n",
       "\n",
       "    .dataframe tbody tr th {\n",
       "        vertical-align: top;\n",
       "    }\n",
       "\n",
       "    .dataframe thead th {\n",
       "        text-align: right;\n",
       "    }\n",
       "</style>\n",
       "<table border=\"1\" class=\"dataframe\">\n",
       "  <thead>\n",
       "    <tr style=\"text-align: right;\">\n",
       "      <th></th>\n",
       "      <th>İSİM</th>\n",
       "      <th>YAŞ</th>\n",
       "      <th>MAAS</th>\n",
       "      <th>new feature</th>\n",
       "    </tr>\n",
       "  </thead>\n",
       "  <tbody>\n",
       "    <tr>\n",
       "      <th>2</th>\n",
       "      <td>Andrew</td>\n",
       "      <td>40</td>\n",
       "      <td>40000</td>\n",
       "      <td>3</td>\n",
       "    </tr>\n",
       "  </tbody>\n",
       "</table>\n",
       "</div>"
      ],
      "text/plain": [
       "     İSİM  YAŞ   MAAS  new feature\n",
       "2  Andrew   40  40000            3"
      ]
     },
     "execution_count": 30,
     "metadata": {},
     "output_type": "execute_result"
    }
   ],
   "source": [
    "filtered_data2 = dataframe1[filter2]\n",
    "filtered_data2"
   ]
  },
  {
   "cell_type": "code",
   "execution_count": 31,
   "id": "3f8b083a",
   "metadata": {},
   "outputs": [
    {
     "data": {
      "text/html": [
       "<div>\n",
       "<style scoped>\n",
       "    .dataframe tbody tr th:only-of-type {\n",
       "        vertical-align: middle;\n",
       "    }\n",
       "\n",
       "    .dataframe tbody tr th {\n",
       "        vertical-align: top;\n",
       "    }\n",
       "\n",
       "    .dataframe thead th {\n",
       "        text-align: right;\n",
       "    }\n",
       "</style>\n",
       "<table border=\"1\" class=\"dataframe\">\n",
       "  <thead>\n",
       "    <tr style=\"text-align: right;\">\n",
       "      <th></th>\n",
       "      <th>İSİM</th>\n",
       "      <th>YAŞ</th>\n",
       "      <th>MAAS</th>\n",
       "      <th>new feature</th>\n",
       "    </tr>\n",
       "  </thead>\n",
       "  <tbody>\n",
       "    <tr>\n",
       "      <th>2</th>\n",
       "      <td>Andrew</td>\n",
       "      <td>40</td>\n",
       "      <td>40000</td>\n",
       "      <td>3</td>\n",
       "    </tr>\n",
       "  </tbody>\n",
       "</table>\n",
       "</div>"
      ],
      "text/plain": [
       "     İSİM  YAŞ   MAAS  new feature\n",
       "2  Andrew   40  40000            3"
      ]
     },
     "execution_count": 31,
     "metadata": {},
     "output_type": "execute_result"
    }
   ],
   "source": [
    "dataframe1[filter1 & filter2] # and veya or mantık operatörü kullanılamaz, and için & ve or için "
   ]
  },
  {
   "cell_type": "code",
   "execution_count": 32,
   "id": "ec17ebf7",
   "metadata": {},
   "outputs": [
    {
     "data": {
      "text/html": [
       "<div>\n",
       "<style scoped>\n",
       "    .dataframe tbody tr th:only-of-type {\n",
       "        vertical-align: middle;\n",
       "    }\n",
       "\n",
       "    .dataframe tbody tr th {\n",
       "        vertical-align: top;\n",
       "    }\n",
       "\n",
       "    .dataframe thead th {\n",
       "        text-align: right;\n",
       "    }\n",
       "</style>\n",
       "<table border=\"1\" class=\"dataframe\">\n",
       "  <thead>\n",
       "    <tr style=\"text-align: right;\">\n",
       "      <th></th>\n",
       "      <th>İSİM</th>\n",
       "      <th>YAŞ</th>\n",
       "      <th>MAAS</th>\n",
       "      <th>new feature</th>\n",
       "    </tr>\n",
       "  </thead>\n",
       "  <tbody>\n",
       "  </tbody>\n",
       "</table>\n",
       "</div>"
      ],
      "text/plain": [
       "Empty DataFrame\n",
       "Columns: [İSİM, YAŞ, MAAS, new feature]\n",
       "Index: []"
      ]
     },
     "execution_count": 32,
     "metadata": {},
     "output_type": "execute_result"
    }
   ],
   "source": [
    "dataframe1[dataframe1.YAŞ > 40]"
   ]
  },
  {
   "cell_type": "code",
   "execution_count": 33,
   "id": "f2c1ae43",
   "metadata": {},
   "outputs": [],
   "source": [
    "# | = or operatörü alt gr + tire "
   ]
  },
  {
   "cell_type": "code",
   "execution_count": 34,
   "id": "caac2811",
   "metadata": {},
   "outputs": [
    {
     "data": {
      "text/html": [
       "<div>\n",
       "<style scoped>\n",
       "    .dataframe tbody tr th:only-of-type {\n",
       "        vertical-align: middle;\n",
       "    }\n",
       "\n",
       "    .dataframe tbody tr th {\n",
       "        vertical-align: top;\n",
       "    }\n",
       "\n",
       "    .dataframe thead th {\n",
       "        text-align: right;\n",
       "    }\n",
       "</style>\n",
       "<table border=\"1\" class=\"dataframe\">\n",
       "  <thead>\n",
       "    <tr style=\"text-align: right;\">\n",
       "      <th></th>\n",
       "      <th>İSİM</th>\n",
       "      <th>YAŞ</th>\n",
       "      <th>MAAS</th>\n",
       "      <th>new feature</th>\n",
       "    </tr>\n",
       "  </thead>\n",
       "  <tbody>\n",
       "    <tr>\n",
       "      <th>0</th>\n",
       "      <td>Kaan</td>\n",
       "      <td>24</td>\n",
       "      <td>10000</td>\n",
       "      <td>1</td>\n",
       "    </tr>\n",
       "    <tr>\n",
       "      <th>1</th>\n",
       "      <td>Murat</td>\n",
       "      <td>24</td>\n",
       "      <td>10000</td>\n",
       "      <td>2</td>\n",
       "    </tr>\n",
       "    <tr>\n",
       "      <th>2</th>\n",
       "      <td>Andrew</td>\n",
       "      <td>40</td>\n",
       "      <td>40000</td>\n",
       "      <td>3</td>\n",
       "    </tr>\n",
       "    <tr>\n",
       "      <th>3</th>\n",
       "      <td>Mikail</td>\n",
       "      <td>28</td>\n",
       "      <td>18000</td>\n",
       "      <td>4</td>\n",
       "    </tr>\n",
       "    <tr>\n",
       "      <th>4</th>\n",
       "      <td>Natalie</td>\n",
       "      <td>28</td>\n",
       "      <td>12000</td>\n",
       "      <td>5</td>\n",
       "    </tr>\n",
       "    <tr>\n",
       "      <th>5</th>\n",
       "      <td>Brooke</td>\n",
       "      <td>32</td>\n",
       "      <td>24000</td>\n",
       "      <td>6</td>\n",
       "    </tr>\n",
       "    <tr>\n",
       "      <th>6</th>\n",
       "      <td>Sandra</td>\n",
       "      <td>34</td>\n",
       "      <td>24000</td>\n",
       "      <td>7</td>\n",
       "    </tr>\n",
       "    <tr>\n",
       "      <th>7</th>\n",
       "      <td>Adriana</td>\n",
       "      <td>35</td>\n",
       "      <td>30000</td>\n",
       "      <td>8</td>\n",
       "    </tr>\n",
       "  </tbody>\n",
       "</table>\n",
       "</div>"
      ],
      "text/plain": [
       "      İSİM  YAŞ   MAAS  new feature\n",
       "0     Kaan   24  10000            1\n",
       "1    Murat   24  10000            2\n",
       "2   Andrew   40  40000            3\n",
       "3   Mikail   28  18000            4\n",
       "4  Natalie   28  12000            5\n",
       "5   Brooke   32  24000            6\n",
       "6   Sandra   34  24000            7\n",
       "7  Adriana   35  30000            8"
      ]
     },
     "execution_count": 34,
     "metadata": {},
     "output_type": "execute_result"
    }
   ],
   "source": [
    "dataframe1"
   ]
  },
  {
   "cell_type": "code",
   "execution_count": 35,
   "id": "de098f1c",
   "metadata": {},
   "outputs": [],
   "source": [
    "filter3 = dataframe1.YAŞ < 30\n",
    "filter4 = dataframe1.MAAS > 10000"
   ]
  },
  {
   "cell_type": "code",
   "execution_count": 36,
   "id": "8816ed74",
   "metadata": {},
   "outputs": [
    {
     "data": {
      "text/html": [
       "<div>\n",
       "<style scoped>\n",
       "    .dataframe tbody tr th:only-of-type {\n",
       "        vertical-align: middle;\n",
       "    }\n",
       "\n",
       "    .dataframe tbody tr th {\n",
       "        vertical-align: top;\n",
       "    }\n",
       "\n",
       "    .dataframe thead th {\n",
       "        text-align: right;\n",
       "    }\n",
       "</style>\n",
       "<table border=\"1\" class=\"dataframe\">\n",
       "  <thead>\n",
       "    <tr style=\"text-align: right;\">\n",
       "      <th></th>\n",
       "      <th>İSİM</th>\n",
       "      <th>YAŞ</th>\n",
       "      <th>MAAS</th>\n",
       "      <th>new feature</th>\n",
       "    </tr>\n",
       "  </thead>\n",
       "  <tbody>\n",
       "    <tr>\n",
       "      <th>0</th>\n",
       "      <td>Kaan</td>\n",
       "      <td>24</td>\n",
       "      <td>10000</td>\n",
       "      <td>1</td>\n",
       "    </tr>\n",
       "    <tr>\n",
       "      <th>1</th>\n",
       "      <td>Murat</td>\n",
       "      <td>24</td>\n",
       "      <td>10000</td>\n",
       "      <td>2</td>\n",
       "    </tr>\n",
       "    <tr>\n",
       "      <th>2</th>\n",
       "      <td>Andrew</td>\n",
       "      <td>40</td>\n",
       "      <td>40000</td>\n",
       "      <td>3</td>\n",
       "    </tr>\n",
       "    <tr>\n",
       "      <th>3</th>\n",
       "      <td>Mikail</td>\n",
       "      <td>28</td>\n",
       "      <td>18000</td>\n",
       "      <td>4</td>\n",
       "    </tr>\n",
       "    <tr>\n",
       "      <th>4</th>\n",
       "      <td>Natalie</td>\n",
       "      <td>28</td>\n",
       "      <td>12000</td>\n",
       "      <td>5</td>\n",
       "    </tr>\n",
       "    <tr>\n",
       "      <th>5</th>\n",
       "      <td>Brooke</td>\n",
       "      <td>32</td>\n",
       "      <td>24000</td>\n",
       "      <td>6</td>\n",
       "    </tr>\n",
       "    <tr>\n",
       "      <th>6</th>\n",
       "      <td>Sandra</td>\n",
       "      <td>34</td>\n",
       "      <td>24000</td>\n",
       "      <td>7</td>\n",
       "    </tr>\n",
       "    <tr>\n",
       "      <th>7</th>\n",
       "      <td>Adriana</td>\n",
       "      <td>35</td>\n",
       "      <td>30000</td>\n",
       "      <td>8</td>\n",
       "    </tr>\n",
       "  </tbody>\n",
       "</table>\n",
       "</div>"
      ],
      "text/plain": [
       "      İSİM  YAŞ   MAAS  new feature\n",
       "0     Kaan   24  10000            1\n",
       "1    Murat   24  10000            2\n",
       "2   Andrew   40  40000            3\n",
       "3   Mikail   28  18000            4\n",
       "4  Natalie   28  12000            5\n",
       "5   Brooke   32  24000            6\n",
       "6   Sandra   34  24000            7\n",
       "7  Adriana   35  30000            8"
      ]
     },
     "execution_count": 36,
     "metadata": {},
     "output_type": "execute_result"
    }
   ],
   "source": [
    "dataframe1[filter3 | filter4]"
   ]
  },
  {
   "cell_type": "code",
   "execution_count": 37,
   "id": "0e0f2ca8",
   "metadata": {},
   "outputs": [
    {
     "data": {
      "text/html": [
       "<div>\n",
       "<style scoped>\n",
       "    .dataframe tbody tr th:only-of-type {\n",
       "        vertical-align: middle;\n",
       "    }\n",
       "\n",
       "    .dataframe tbody tr th {\n",
       "        vertical-align: top;\n",
       "    }\n",
       "\n",
       "    .dataframe thead th {\n",
       "        text-align: right;\n",
       "    }\n",
       "</style>\n",
       "<table border=\"1\" class=\"dataframe\">\n",
       "  <thead>\n",
       "    <tr style=\"text-align: right;\">\n",
       "      <th></th>\n",
       "      <th>İSİM</th>\n",
       "      <th>YAŞ</th>\n",
       "      <th>MAAS</th>\n",
       "      <th>new feature</th>\n",
       "    </tr>\n",
       "  </thead>\n",
       "  <tbody>\n",
       "    <tr>\n",
       "      <th>3</th>\n",
       "      <td>Mikail</td>\n",
       "      <td>28</td>\n",
       "      <td>18000</td>\n",
       "      <td>4</td>\n",
       "    </tr>\n",
       "    <tr>\n",
       "      <th>4</th>\n",
       "      <td>Natalie</td>\n",
       "      <td>28</td>\n",
       "      <td>12000</td>\n",
       "      <td>5</td>\n",
       "    </tr>\n",
       "  </tbody>\n",
       "</table>\n",
       "</div>"
      ],
      "text/plain": [
       "      İSİM  YAŞ   MAAS  new feature\n",
       "3   Mikail   28  18000            4\n",
       "4  Natalie   28  12000            5"
      ]
     },
     "execution_count": 37,
     "metadata": {},
     "output_type": "execute_result"
    }
   ],
   "source": [
    "dataframe1[filter3 & filter4]"
   ]
  },
  {
   "cell_type": "code",
   "execution_count": 38,
   "id": "560e918c",
   "metadata": {},
   "outputs": [
    {
     "data": {
      "text/html": [
       "<div>\n",
       "<style scoped>\n",
       "    .dataframe tbody tr th:only-of-type {\n",
       "        vertical-align: middle;\n",
       "    }\n",
       "\n",
       "    .dataframe tbody tr th {\n",
       "        vertical-align: top;\n",
       "    }\n",
       "\n",
       "    .dataframe thead th {\n",
       "        text-align: right;\n",
       "    }\n",
       "</style>\n",
       "<table border=\"1\" class=\"dataframe\">\n",
       "  <thead>\n",
       "    <tr style=\"text-align: right;\">\n",
       "      <th></th>\n",
       "      <th>İSİM</th>\n",
       "      <th>YAŞ</th>\n",
       "      <th>MAAS</th>\n",
       "      <th>new feature</th>\n",
       "    </tr>\n",
       "  </thead>\n",
       "  <tbody>\n",
       "    <tr>\n",
       "      <th>0</th>\n",
       "      <td>Kaan</td>\n",
       "      <td>24</td>\n",
       "      <td>10000</td>\n",
       "      <td>1</td>\n",
       "    </tr>\n",
       "    <tr>\n",
       "      <th>1</th>\n",
       "      <td>Murat</td>\n",
       "      <td>24</td>\n",
       "      <td>10000</td>\n",
       "      <td>2</td>\n",
       "    </tr>\n",
       "    <tr>\n",
       "      <th>2</th>\n",
       "      <td>Andrew</td>\n",
       "      <td>40</td>\n",
       "      <td>40000</td>\n",
       "      <td>3</td>\n",
       "    </tr>\n",
       "    <tr>\n",
       "      <th>3</th>\n",
       "      <td>Mikail</td>\n",
       "      <td>28</td>\n",
       "      <td>18000</td>\n",
       "      <td>4</td>\n",
       "    </tr>\n",
       "    <tr>\n",
       "      <th>4</th>\n",
       "      <td>Natalie</td>\n",
       "      <td>28</td>\n",
       "      <td>12000</td>\n",
       "      <td>5</td>\n",
       "    </tr>\n",
       "    <tr>\n",
       "      <th>5</th>\n",
       "      <td>Brooke</td>\n",
       "      <td>32</td>\n",
       "      <td>24000</td>\n",
       "      <td>6</td>\n",
       "    </tr>\n",
       "    <tr>\n",
       "      <th>6</th>\n",
       "      <td>Sandra</td>\n",
       "      <td>34</td>\n",
       "      <td>24000</td>\n",
       "      <td>7</td>\n",
       "    </tr>\n",
       "    <tr>\n",
       "      <th>7</th>\n",
       "      <td>Adriana</td>\n",
       "      <td>35</td>\n",
       "      <td>30000</td>\n",
       "      <td>8</td>\n",
       "    </tr>\n",
       "  </tbody>\n",
       "</table>\n",
       "</div>"
      ],
      "text/plain": [
       "      İSİM  YAŞ   MAAS  new feature\n",
       "0     Kaan   24  10000            1\n",
       "1    Murat   24  10000            2\n",
       "2   Andrew   40  40000            3\n",
       "3   Mikail   28  18000            4\n",
       "4  Natalie   28  12000            5\n",
       "5   Brooke   32  24000            6\n",
       "6   Sandra   34  24000            7\n",
       "7  Adriana   35  30000            8"
      ]
     },
     "execution_count": 38,
     "metadata": {},
     "output_type": "execute_result"
    }
   ],
   "source": [
    "df = dataframe1\n",
    "df"
   ]
  },
  {
   "cell_type": "code",
   "execution_count": 39,
   "id": "9b4c771c",
   "metadata": {},
   "outputs": [
    {
     "data": {
      "text/plain": [
       "0    10000\n",
       "1    10000\n",
       "2    40000\n",
       "3    18000\n",
       "4    12000\n",
       "5    24000\n",
       "6    24000\n",
       "7    30000\n",
       "Name: MAAS, dtype: int64"
      ]
     },
     "execution_count": 39,
     "metadata": {},
     "output_type": "execute_result"
    }
   ],
   "source": [
    "df.MAAS"
   ]
  },
  {
   "cell_type": "code",
   "execution_count": 40,
   "id": "a13c2dc4",
   "metadata": {},
   "outputs": [],
   "source": [
    "# .mean()   ortalama, bu metot, pandasa özgüdür. numpy daki mean kullanmak için np.mean(ortalaması istenen)"
   ]
  },
  {
   "cell_type": "code",
   "execution_count": 41,
   "id": "81e3dbfd",
   "metadata": {},
   "outputs": [
    {
     "data": {
      "text/plain": [
       "21000.0"
      ]
     },
     "execution_count": 41,
     "metadata": {},
     "output_type": "execute_result"
    }
   ],
   "source": [
    "ort_maas = df.MAAS.mean()\n",
    "ort_maas"
   ]
  },
  {
   "cell_type": "code",
   "execution_count": 42,
   "id": "74b8ba7b",
   "metadata": {},
   "outputs": [
    {
     "name": "stdout",
     "output_type": "stream",
     "text": [
      "Çalışanların ortalama maaşı 21000.0' dır.\n"
     ]
    }
   ],
   "source": [
    "print(\"Çalışanların ortalama maaşı {}' dır.\".format(df.MAAS.mean()))"
   ]
  },
  {
   "cell_type": "code",
   "execution_count": 43,
   "id": "3ed4fc22",
   "metadata": {},
   "outputs": [],
   "source": [
    "import numpy as np"
   ]
  },
  {
   "cell_type": "code",
   "execution_count": 44,
   "id": "fed65494",
   "metadata": {},
   "outputs": [
    {
     "data": {
      "text/plain": [
       "21000.0"
      ]
     },
     "execution_count": 44,
     "metadata": {},
     "output_type": "execute_result"
    }
   ],
   "source": [
    "ort_maas_from_np = np.mean(df.MAAS)\n",
    "ort_maas_from_np"
   ]
  },
  {
   "cell_type": "code",
   "execution_count": 45,
   "id": "22cac03f",
   "metadata": {},
   "outputs": [
    {
     "name": "stdout",
     "output_type": "stream",
     "text": [
      "10000\n",
      "10000\n",
      "40000\n",
      "18000\n",
      "12000\n",
      "24000\n",
      "24000\n",
      "30000\n"
     ]
    }
   ],
   "source": [
    "for i in df.MAAS:\n",
    "    print(i)"
   ]
  },
  {
   "cell_type": "code",
   "execution_count": 46,
   "id": "58b8e5ce",
   "metadata": {},
   "outputs": [
    {
     "name": "stdout",
     "output_type": "stream",
     "text": [
      "düşük\n",
      "düşük\n",
      "yüksek\n",
      "düşük\n",
      "düşük\n",
      "yüksek\n",
      "yüksek\n",
      "yüksek\n"
     ]
    }
   ],
   "source": [
    "for i in df.MAAS:\n",
    "    if(i > ort_maas):\n",
    "        print(\"yüksek\")\n",
    "    else:\n",
    "        print(\"düşük\")"
   ]
  },
  {
   "cell_type": "code",
   "execution_count": 47,
   "id": "b61ce92c",
   "metadata": {},
   "outputs": [
    {
     "data": {
      "text/html": [
       "<div>\n",
       "<style scoped>\n",
       "    .dataframe tbody tr th:only-of-type {\n",
       "        vertical-align: middle;\n",
       "    }\n",
       "\n",
       "    .dataframe tbody tr th {\n",
       "        vertical-align: top;\n",
       "    }\n",
       "\n",
       "    .dataframe thead th {\n",
       "        text-align: right;\n",
       "    }\n",
       "</style>\n",
       "<table border=\"1\" class=\"dataframe\">\n",
       "  <thead>\n",
       "    <tr style=\"text-align: right;\">\n",
       "      <th></th>\n",
       "      <th>İSİM</th>\n",
       "      <th>YAŞ</th>\n",
       "      <th>MAAS</th>\n",
       "      <th>new feature</th>\n",
       "      <th>maas_seviyesi</th>\n",
       "    </tr>\n",
       "  </thead>\n",
       "  <tbody>\n",
       "    <tr>\n",
       "      <th>0</th>\n",
       "      <td>Kaan</td>\n",
       "      <td>24</td>\n",
       "      <td>10000</td>\n",
       "      <td>1</td>\n",
       "      <td>düşük</td>\n",
       "    </tr>\n",
       "    <tr>\n",
       "      <th>1</th>\n",
       "      <td>Murat</td>\n",
       "      <td>24</td>\n",
       "      <td>10000</td>\n",
       "      <td>2</td>\n",
       "      <td>düşük</td>\n",
       "    </tr>\n",
       "    <tr>\n",
       "      <th>2</th>\n",
       "      <td>Andrew</td>\n",
       "      <td>40</td>\n",
       "      <td>40000</td>\n",
       "      <td>3</td>\n",
       "      <td>yüksek</td>\n",
       "    </tr>\n",
       "    <tr>\n",
       "      <th>3</th>\n",
       "      <td>Mikail</td>\n",
       "      <td>28</td>\n",
       "      <td>18000</td>\n",
       "      <td>4</td>\n",
       "      <td>düşük</td>\n",
       "    </tr>\n",
       "    <tr>\n",
       "      <th>4</th>\n",
       "      <td>Natalie</td>\n",
       "      <td>28</td>\n",
       "      <td>12000</td>\n",
       "      <td>5</td>\n",
       "      <td>düşük</td>\n",
       "    </tr>\n",
       "    <tr>\n",
       "      <th>5</th>\n",
       "      <td>Brooke</td>\n",
       "      <td>32</td>\n",
       "      <td>24000</td>\n",
       "      <td>6</td>\n",
       "      <td>yüksek</td>\n",
       "    </tr>\n",
       "    <tr>\n",
       "      <th>6</th>\n",
       "      <td>Sandra</td>\n",
       "      <td>34</td>\n",
       "      <td>24000</td>\n",
       "      <td>7</td>\n",
       "      <td>yüksek</td>\n",
       "    </tr>\n",
       "    <tr>\n",
       "      <th>7</th>\n",
       "      <td>Adriana</td>\n",
       "      <td>35</td>\n",
       "      <td>30000</td>\n",
       "      <td>8</td>\n",
       "      <td>yüksek</td>\n",
       "    </tr>\n",
       "  </tbody>\n",
       "</table>\n",
       "</div>"
      ],
      "text/plain": [
       "      İSİM  YAŞ   MAAS  new feature maas_seviyesi\n",
       "0     Kaan   24  10000            1         düşük\n",
       "1    Murat   24  10000            2         düşük\n",
       "2   Andrew   40  40000            3        yüksek\n",
       "3   Mikail   28  18000            4         düşük\n",
       "4  Natalie   28  12000            5         düşük\n",
       "5   Brooke   32  24000            6        yüksek\n",
       "6   Sandra   34  24000            7        yüksek\n",
       "7  Adriana   35  30000            8        yüksek"
      ]
     },
     "execution_count": 47,
     "metadata": {},
     "output_type": "execute_result"
    }
   ],
   "source": [
    "df[\"maas_seviyesi\"] = [\"yüksek\" if i > ort_maas else \"düşük\" for i in df.MAAS]\n",
    "df"
   ]
  },
  {
   "cell_type": "code",
   "execution_count": 48,
   "id": "f03b728b",
   "metadata": {},
   "outputs": [
    {
     "data": {
      "text/plain": [
       "Index(['İSİM', 'YAŞ', 'MAAS', 'new feature', 'maas_seviyesi'], dtype='object')"
      ]
     },
     "execution_count": 48,
     "metadata": {},
     "output_type": "execute_result"
    }
   ],
   "source": [
    "df.columns"
   ]
  },
  {
   "cell_type": "code",
   "execution_count": 49,
   "id": "f20379c4",
   "metadata": {},
   "outputs": [
    {
     "data": {
      "text/html": [
       "<div>\n",
       "<style scoped>\n",
       "    .dataframe tbody tr th:only-of-type {\n",
       "        vertical-align: middle;\n",
       "    }\n",
       "\n",
       "    .dataframe tbody tr th {\n",
       "        vertical-align: top;\n",
       "    }\n",
       "\n",
       "    .dataframe thead th {\n",
       "        text-align: right;\n",
       "    }\n",
       "</style>\n",
       "<table border=\"1\" class=\"dataframe\">\n",
       "  <thead>\n",
       "    <tr style=\"text-align: right;\">\n",
       "      <th></th>\n",
       "      <th>İSİM</th>\n",
       "      <th>YAŞ</th>\n",
       "      <th>MAAS</th>\n",
       "      <th>new feature</th>\n",
       "      <th>maas_seviyesi</th>\n",
       "    </tr>\n",
       "  </thead>\n",
       "  <tbody>\n",
       "    <tr>\n",
       "      <th>0</th>\n",
       "      <td>Kaan</td>\n",
       "      <td>24</td>\n",
       "      <td>10000</td>\n",
       "      <td>1</td>\n",
       "      <td>düşük</td>\n",
       "    </tr>\n",
       "    <tr>\n",
       "      <th>1</th>\n",
       "      <td>Murat</td>\n",
       "      <td>24</td>\n",
       "      <td>10000</td>\n",
       "      <td>2</td>\n",
       "      <td>düşük</td>\n",
       "    </tr>\n",
       "    <tr>\n",
       "      <th>2</th>\n",
       "      <td>Andrew</td>\n",
       "      <td>40</td>\n",
       "      <td>40000</td>\n",
       "      <td>3</td>\n",
       "      <td>yüksek</td>\n",
       "    </tr>\n",
       "    <tr>\n",
       "      <th>3</th>\n",
       "      <td>Mikail</td>\n",
       "      <td>28</td>\n",
       "      <td>18000</td>\n",
       "      <td>4</td>\n",
       "      <td>düşük</td>\n",
       "    </tr>\n",
       "    <tr>\n",
       "      <th>4</th>\n",
       "      <td>Natalie</td>\n",
       "      <td>28</td>\n",
       "      <td>12000</td>\n",
       "      <td>5</td>\n",
       "      <td>düşük</td>\n",
       "    </tr>\n",
       "    <tr>\n",
       "      <th>5</th>\n",
       "      <td>Brooke</td>\n",
       "      <td>32</td>\n",
       "      <td>24000</td>\n",
       "      <td>6</td>\n",
       "      <td>yüksek</td>\n",
       "    </tr>\n",
       "    <tr>\n",
       "      <th>6</th>\n",
       "      <td>Sandra</td>\n",
       "      <td>34</td>\n",
       "      <td>24000</td>\n",
       "      <td>7</td>\n",
       "      <td>yüksek</td>\n",
       "    </tr>\n",
       "    <tr>\n",
       "      <th>7</th>\n",
       "      <td>Adriana</td>\n",
       "      <td>35</td>\n",
       "      <td>30000</td>\n",
       "      <td>8</td>\n",
       "      <td>yüksek</td>\n",
       "    </tr>\n",
       "  </tbody>\n",
       "</table>\n",
       "</div>"
      ],
      "text/plain": [
       "      İSİM  YAŞ   MAAS  new feature maas_seviyesi\n",
       "0     Kaan   24  10000            1         düşük\n",
       "1    Murat   24  10000            2         düşük\n",
       "2   Andrew   40  40000            3        yüksek\n",
       "3   Mikail   28  18000            4         düşük\n",
       "4  Natalie   28  12000            5         düşük\n",
       "5   Brooke   32  24000            6        yüksek\n",
       "6   Sandra   34  24000            7        yüksek\n",
       "7  Adriana   35  30000            8        yüksek"
      ]
     },
     "execution_count": 49,
     "metadata": {},
     "output_type": "execute_result"
    }
   ],
   "source": [
    "df.columns = [i for i in df.columns]\n",
    "df"
   ]
  },
  {
   "cell_type": "code",
   "execution_count": 50,
   "id": "957007a2",
   "metadata": {},
   "outputs": [
    {
     "data": {
      "text/html": [
       "<div>\n",
       "<style scoped>\n",
       "    .dataframe tbody tr th:only-of-type {\n",
       "        vertical-align: middle;\n",
       "    }\n",
       "\n",
       "    .dataframe tbody tr th {\n",
       "        vertical-align: top;\n",
       "    }\n",
       "\n",
       "    .dataframe thead th {\n",
       "        text-align: right;\n",
       "    }\n",
       "</style>\n",
       "<table border=\"1\" class=\"dataframe\">\n",
       "  <thead>\n",
       "    <tr style=\"text-align: right;\">\n",
       "      <th></th>\n",
       "      <th>i̇si̇m</th>\n",
       "      <th>yaş</th>\n",
       "      <th>maas</th>\n",
       "      <th>new feature</th>\n",
       "      <th>maas_seviyesi</th>\n",
       "    </tr>\n",
       "  </thead>\n",
       "  <tbody>\n",
       "    <tr>\n",
       "      <th>0</th>\n",
       "      <td>Kaan</td>\n",
       "      <td>24</td>\n",
       "      <td>10000</td>\n",
       "      <td>1</td>\n",
       "      <td>düşük</td>\n",
       "    </tr>\n",
       "    <tr>\n",
       "      <th>1</th>\n",
       "      <td>Murat</td>\n",
       "      <td>24</td>\n",
       "      <td>10000</td>\n",
       "      <td>2</td>\n",
       "      <td>düşük</td>\n",
       "    </tr>\n",
       "    <tr>\n",
       "      <th>2</th>\n",
       "      <td>Andrew</td>\n",
       "      <td>40</td>\n",
       "      <td>40000</td>\n",
       "      <td>3</td>\n",
       "      <td>yüksek</td>\n",
       "    </tr>\n",
       "    <tr>\n",
       "      <th>3</th>\n",
       "      <td>Mikail</td>\n",
       "      <td>28</td>\n",
       "      <td>18000</td>\n",
       "      <td>4</td>\n",
       "      <td>düşük</td>\n",
       "    </tr>\n",
       "    <tr>\n",
       "      <th>4</th>\n",
       "      <td>Natalie</td>\n",
       "      <td>28</td>\n",
       "      <td>12000</td>\n",
       "      <td>5</td>\n",
       "      <td>düşük</td>\n",
       "    </tr>\n",
       "    <tr>\n",
       "      <th>5</th>\n",
       "      <td>Brooke</td>\n",
       "      <td>32</td>\n",
       "      <td>24000</td>\n",
       "      <td>6</td>\n",
       "      <td>yüksek</td>\n",
       "    </tr>\n",
       "    <tr>\n",
       "      <th>6</th>\n",
       "      <td>Sandra</td>\n",
       "      <td>34</td>\n",
       "      <td>24000</td>\n",
       "      <td>7</td>\n",
       "      <td>yüksek</td>\n",
       "    </tr>\n",
       "    <tr>\n",
       "      <th>7</th>\n",
       "      <td>Adriana</td>\n",
       "      <td>35</td>\n",
       "      <td>30000</td>\n",
       "      <td>8</td>\n",
       "      <td>yüksek</td>\n",
       "    </tr>\n",
       "  </tbody>\n",
       "</table>\n",
       "</div>"
      ],
      "text/plain": [
       "    i̇si̇m  yaş   maas  new feature maas_seviyesi\n",
       "0     Kaan   24  10000            1         düşük\n",
       "1    Murat   24  10000            2         düşük\n",
       "2   Andrew   40  40000            3        yüksek\n",
       "3   Mikail   28  18000            4         düşük\n",
       "4  Natalie   28  12000            5         düşük\n",
       "5   Brooke   32  24000            6        yüksek\n",
       "6   Sandra   34  24000            7        yüksek\n",
       "7  Adriana   35  30000            8        yüksek"
      ]
     },
     "execution_count": 50,
     "metadata": {},
     "output_type": "execute_result"
    }
   ],
   "source": [
    "df.columns = [i.lower() for i in df.columns]\n",
    "df"
   ]
  },
  {
   "cell_type": "raw",
   "id": "f5fc5feb",
   "metadata": {},
   "source": [
    "Buna neden ihtiyaç olur ? Çalışılacak veri setlerinin sütun isimleri o kadar karmaşık olabilir ki böyle durumlarda karmaşayı önlemek amacıyla bu tip yöntemler uygulanabilir. "
   ]
  },
  {
   "cell_type": "code",
   "execution_count": 51,
   "id": "07d594a6",
   "metadata": {},
   "outputs": [
    {
     "data": {
      "text/plain": [
       "Index(['i̇si̇m', 'yaş', 'maas', 'new feature', 'maas_seviyesi'], dtype='object')"
      ]
     },
     "execution_count": 51,
     "metadata": {},
     "output_type": "execute_result"
    }
   ],
   "source": [
    "df.columns"
   ]
  },
  {
   "cell_type": "code",
   "execution_count": 52,
   "id": "cd443302",
   "metadata": {},
   "outputs": [
    {
     "data": {
      "text/plain": [
       "Index(['i̇si̇m', 'yaş', 'maas', 'new_feature', 'maas_seviyesi'], dtype='object')"
      ]
     },
     "execution_count": 52,
     "metadata": {},
     "output_type": "execute_result"
    }
   ],
   "source": [
    "df.columns = [i.split()[0] + \"_\" + i.split()[1] if (len(i.split()) > 1) else i for i in df.columns]\n",
    "df.columns"
   ]
  },
  {
   "cell_type": "code",
   "execution_count": 53,
   "id": "8b13345c",
   "metadata": {},
   "outputs": [
    {
     "data": {
      "text/html": [
       "<div>\n",
       "<style scoped>\n",
       "    .dataframe tbody tr th:only-of-type {\n",
       "        vertical-align: middle;\n",
       "    }\n",
       "\n",
       "    .dataframe tbody tr th {\n",
       "        vertical-align: top;\n",
       "    }\n",
       "\n",
       "    .dataframe thead th {\n",
       "        text-align: right;\n",
       "    }\n",
       "</style>\n",
       "<table border=\"1\" class=\"dataframe\">\n",
       "  <thead>\n",
       "    <tr style=\"text-align: right;\">\n",
       "      <th></th>\n",
       "      <th>i̇si̇m</th>\n",
       "      <th>yaş</th>\n",
       "      <th>maas</th>\n",
       "      <th>new_feature</th>\n",
       "      <th>maas_seviyesi</th>\n",
       "    </tr>\n",
       "  </thead>\n",
       "  <tbody>\n",
       "    <tr>\n",
       "      <th>0</th>\n",
       "      <td>Kaan</td>\n",
       "      <td>24</td>\n",
       "      <td>10000</td>\n",
       "      <td>1</td>\n",
       "      <td>düşük</td>\n",
       "    </tr>\n",
       "    <tr>\n",
       "      <th>1</th>\n",
       "      <td>Murat</td>\n",
       "      <td>24</td>\n",
       "      <td>10000</td>\n",
       "      <td>2</td>\n",
       "      <td>düşük</td>\n",
       "    </tr>\n",
       "    <tr>\n",
       "      <th>2</th>\n",
       "      <td>Andrew</td>\n",
       "      <td>40</td>\n",
       "      <td>40000</td>\n",
       "      <td>3</td>\n",
       "      <td>yüksek</td>\n",
       "    </tr>\n",
       "    <tr>\n",
       "      <th>3</th>\n",
       "      <td>Mikail</td>\n",
       "      <td>28</td>\n",
       "      <td>18000</td>\n",
       "      <td>4</td>\n",
       "      <td>düşük</td>\n",
       "    </tr>\n",
       "    <tr>\n",
       "      <th>4</th>\n",
       "      <td>Natalie</td>\n",
       "      <td>28</td>\n",
       "      <td>12000</td>\n",
       "      <td>5</td>\n",
       "      <td>düşük</td>\n",
       "    </tr>\n",
       "    <tr>\n",
       "      <th>5</th>\n",
       "      <td>Brooke</td>\n",
       "      <td>32</td>\n",
       "      <td>24000</td>\n",
       "      <td>6</td>\n",
       "      <td>yüksek</td>\n",
       "    </tr>\n",
       "    <tr>\n",
       "      <th>6</th>\n",
       "      <td>Sandra</td>\n",
       "      <td>34</td>\n",
       "      <td>24000</td>\n",
       "      <td>7</td>\n",
       "      <td>yüksek</td>\n",
       "    </tr>\n",
       "    <tr>\n",
       "      <th>7</th>\n",
       "      <td>Adriana</td>\n",
       "      <td>35</td>\n",
       "      <td>30000</td>\n",
       "      <td>8</td>\n",
       "      <td>yüksek</td>\n",
       "    </tr>\n",
       "  </tbody>\n",
       "</table>\n",
       "</div>"
      ],
      "text/plain": [
       "    i̇si̇m  yaş   maas  new_feature maas_seviyesi\n",
       "0     Kaan   24  10000            1         düşük\n",
       "1    Murat   24  10000            2         düşük\n",
       "2   Andrew   40  40000            3        yüksek\n",
       "3   Mikail   28  18000            4         düşük\n",
       "4  Natalie   28  12000            5         düşük\n",
       "5   Brooke   32  24000            6        yüksek\n",
       "6   Sandra   34  24000            7        yüksek\n",
       "7  Adriana   35  30000            8        yüksek"
      ]
     },
     "execution_count": 53,
     "metadata": {},
     "output_type": "execute_result"
    }
   ],
   "source": [
    "df"
   ]
  },
  {
   "cell_type": "markdown",
   "id": "45ee3bc4",
   "metadata": {},
   "source": [
    "# .split() "
   ]
  },
  {
   "cell_type": "code",
   "execution_count": 56,
   "id": "19b43185",
   "metadata": {},
   "outputs": [
    {
     "data": {
      "text/plain": [
       "'Mareşal Gazi Mustafa Kemal Atatürk'"
      ]
     },
     "execution_count": 56,
     "metadata": {},
     "output_type": "execute_result"
    }
   ],
   "source": [
    "u = \"Mareşal Gazi Mustafa Kemal Atatürk\"\n",
    "u"
   ]
  },
  {
   "cell_type": "code",
   "execution_count": 57,
   "id": "a5440b86",
   "metadata": {},
   "outputs": [
    {
     "data": {
      "text/plain": [
       "['Mareşal', 'Gazi', 'Mustafa', 'Kemal', 'Atatürk']"
      ]
     },
     "execution_count": 57,
     "metadata": {},
     "output_type": "execute_result"
    }
   ],
   "source": [
    "u.split()"
   ]
  },
  {
   "cell_type": "code",
   "execution_count": 58,
   "id": "dcbf445c",
   "metadata": {},
   "outputs": [
    {
     "name": "stdout",
     "output_type": "stream",
     "text": [
      "Mareşal\n",
      "Gazi\n",
      "Mustafa\n",
      "Kemal\n",
      "Atatürk\n"
     ]
    }
   ],
   "source": [
    "for i in u.split():\n",
    "    print(i)"
   ]
  },
  {
   "cell_type": "markdown",
   "id": "09ac7abe",
   "metadata": {},
   "source": [
    "# drop and concatenating  (düşürme ve birleştirme)"
   ]
  },
  {
   "cell_type": "raw",
   "id": "3481acb5",
   "metadata": {},
   "source": [
    "axis = 1 sütunu, asiz = 0 satırı drop eder. "
   ]
  },
  {
   "cell_type": "code",
   "execution_count": 59,
   "id": "3d3f1c0e",
   "metadata": {},
   "outputs": [
    {
     "data": {
      "text/html": [
       "<div>\n",
       "<style scoped>\n",
       "    .dataframe tbody tr th:only-of-type {\n",
       "        vertical-align: middle;\n",
       "    }\n",
       "\n",
       "    .dataframe tbody tr th {\n",
       "        vertical-align: top;\n",
       "    }\n",
       "\n",
       "    .dataframe thead th {\n",
       "        text-align: right;\n",
       "    }\n",
       "</style>\n",
       "<table border=\"1\" class=\"dataframe\">\n",
       "  <thead>\n",
       "    <tr style=\"text-align: right;\">\n",
       "      <th></th>\n",
       "      <th>i̇si̇m</th>\n",
       "      <th>yaş</th>\n",
       "      <th>maas</th>\n",
       "      <th>new_feature</th>\n",
       "      <th>maas_seviyesi</th>\n",
       "    </tr>\n",
       "  </thead>\n",
       "  <tbody>\n",
       "    <tr>\n",
       "      <th>0</th>\n",
       "      <td>Kaan</td>\n",
       "      <td>24</td>\n",
       "      <td>10000</td>\n",
       "      <td>1</td>\n",
       "      <td>düşük</td>\n",
       "    </tr>\n",
       "    <tr>\n",
       "      <th>1</th>\n",
       "      <td>Murat</td>\n",
       "      <td>24</td>\n",
       "      <td>10000</td>\n",
       "      <td>2</td>\n",
       "      <td>düşük</td>\n",
       "    </tr>\n",
       "    <tr>\n",
       "      <th>2</th>\n",
       "      <td>Andrew</td>\n",
       "      <td>40</td>\n",
       "      <td>40000</td>\n",
       "      <td>3</td>\n",
       "      <td>yüksek</td>\n",
       "    </tr>\n",
       "    <tr>\n",
       "      <th>3</th>\n",
       "      <td>Mikail</td>\n",
       "      <td>28</td>\n",
       "      <td>18000</td>\n",
       "      <td>4</td>\n",
       "      <td>düşük</td>\n",
       "    </tr>\n",
       "    <tr>\n",
       "      <th>4</th>\n",
       "      <td>Natalie</td>\n",
       "      <td>28</td>\n",
       "      <td>12000</td>\n",
       "      <td>5</td>\n",
       "      <td>düşük</td>\n",
       "    </tr>\n",
       "    <tr>\n",
       "      <th>5</th>\n",
       "      <td>Brooke</td>\n",
       "      <td>32</td>\n",
       "      <td>24000</td>\n",
       "      <td>6</td>\n",
       "      <td>yüksek</td>\n",
       "    </tr>\n",
       "    <tr>\n",
       "      <th>6</th>\n",
       "      <td>Sandra</td>\n",
       "      <td>34</td>\n",
       "      <td>24000</td>\n",
       "      <td>7</td>\n",
       "      <td>yüksek</td>\n",
       "    </tr>\n",
       "    <tr>\n",
       "      <th>7</th>\n",
       "      <td>Adriana</td>\n",
       "      <td>35</td>\n",
       "      <td>30000</td>\n",
       "      <td>8</td>\n",
       "      <td>yüksek</td>\n",
       "    </tr>\n",
       "  </tbody>\n",
       "</table>\n",
       "</div>"
      ],
      "text/plain": [
       "    i̇si̇m  yaş   maas  new_feature maas_seviyesi\n",
       "0     Kaan   24  10000            1         düşük\n",
       "1    Murat   24  10000            2         düşük\n",
       "2   Andrew   40  40000            3        yüksek\n",
       "3   Mikail   28  18000            4         düşük\n",
       "4  Natalie   28  12000            5         düşük\n",
       "5   Brooke   32  24000            6        yüksek\n",
       "6   Sandra   34  24000            7        yüksek\n",
       "7  Adriana   35  30000            8        yüksek"
      ]
     },
     "execution_count": 59,
     "metadata": {},
     "output_type": "execute_result"
    }
   ],
   "source": [
    "df"
   ]
  },
  {
   "cell_type": "code",
   "execution_count": 60,
   "id": "b126effc",
   "metadata": {},
   "outputs": [
    {
     "data": {
      "text/html": [
       "<div>\n",
       "<style scoped>\n",
       "    .dataframe tbody tr th:only-of-type {\n",
       "        vertical-align: middle;\n",
       "    }\n",
       "\n",
       "    .dataframe tbody tr th {\n",
       "        vertical-align: top;\n",
       "    }\n",
       "\n",
       "    .dataframe thead th {\n",
       "        text-align: right;\n",
       "    }\n",
       "</style>\n",
       "<table border=\"1\" class=\"dataframe\">\n",
       "  <thead>\n",
       "    <tr style=\"text-align: right;\">\n",
       "      <th></th>\n",
       "      <th>i̇si̇m</th>\n",
       "      <th>yaş</th>\n",
       "      <th>maas</th>\n",
       "      <th>maas_seviyesi</th>\n",
       "    </tr>\n",
       "  </thead>\n",
       "  <tbody>\n",
       "    <tr>\n",
       "      <th>0</th>\n",
       "      <td>Kaan</td>\n",
       "      <td>24</td>\n",
       "      <td>10000</td>\n",
       "      <td>düşük</td>\n",
       "    </tr>\n",
       "    <tr>\n",
       "      <th>1</th>\n",
       "      <td>Murat</td>\n",
       "      <td>24</td>\n",
       "      <td>10000</td>\n",
       "      <td>düşük</td>\n",
       "    </tr>\n",
       "    <tr>\n",
       "      <th>2</th>\n",
       "      <td>Andrew</td>\n",
       "      <td>40</td>\n",
       "      <td>40000</td>\n",
       "      <td>yüksek</td>\n",
       "    </tr>\n",
       "    <tr>\n",
       "      <th>3</th>\n",
       "      <td>Mikail</td>\n",
       "      <td>28</td>\n",
       "      <td>18000</td>\n",
       "      <td>düşük</td>\n",
       "    </tr>\n",
       "    <tr>\n",
       "      <th>4</th>\n",
       "      <td>Natalie</td>\n",
       "      <td>28</td>\n",
       "      <td>12000</td>\n",
       "      <td>düşük</td>\n",
       "    </tr>\n",
       "    <tr>\n",
       "      <th>5</th>\n",
       "      <td>Brooke</td>\n",
       "      <td>32</td>\n",
       "      <td>24000</td>\n",
       "      <td>yüksek</td>\n",
       "    </tr>\n",
       "    <tr>\n",
       "      <th>6</th>\n",
       "      <td>Sandra</td>\n",
       "      <td>34</td>\n",
       "      <td>24000</td>\n",
       "      <td>yüksek</td>\n",
       "    </tr>\n",
       "    <tr>\n",
       "      <th>7</th>\n",
       "      <td>Adriana</td>\n",
       "      <td>35</td>\n",
       "      <td>30000</td>\n",
       "      <td>yüksek</td>\n",
       "    </tr>\n",
       "  </tbody>\n",
       "</table>\n",
       "</div>"
      ],
      "text/plain": [
       "    i̇si̇m  yaş   maas maas_seviyesi\n",
       "0     Kaan   24  10000         düşük\n",
       "1    Murat   24  10000         düşük\n",
       "2   Andrew   40  40000        yüksek\n",
       "3   Mikail   28  18000         düşük\n",
       "4  Natalie   28  12000         düşük\n",
       "5   Brooke   32  24000        yüksek\n",
       "6   Sandra   34  24000        yüksek\n",
       "7  Adriana   35  30000        yüksek"
      ]
     },
     "execution_count": 60,
     "metadata": {},
     "output_type": "execute_result"
    }
   ],
   "source": [
    "df.drop([\"new_feature\"], axis = 1)"
   ]
  },
  {
   "cell_type": "code",
   "execution_count": 61,
   "id": "ddccf794",
   "metadata": {},
   "outputs": [
    {
     "data": {
      "text/html": [
       "<div>\n",
       "<style scoped>\n",
       "    .dataframe tbody tr th:only-of-type {\n",
       "        vertical-align: middle;\n",
       "    }\n",
       "\n",
       "    .dataframe tbody tr th {\n",
       "        vertical-align: top;\n",
       "    }\n",
       "\n",
       "    .dataframe thead th {\n",
       "        text-align: right;\n",
       "    }\n",
       "</style>\n",
       "<table border=\"1\" class=\"dataframe\">\n",
       "  <thead>\n",
       "    <tr style=\"text-align: right;\">\n",
       "      <th></th>\n",
       "      <th>i̇si̇m</th>\n",
       "      <th>yaş</th>\n",
       "      <th>maas</th>\n",
       "      <th>new_feature</th>\n",
       "      <th>maas_seviyesi</th>\n",
       "    </tr>\n",
       "  </thead>\n",
       "  <tbody>\n",
       "    <tr>\n",
       "      <th>0</th>\n",
       "      <td>Kaan</td>\n",
       "      <td>24</td>\n",
       "      <td>10000</td>\n",
       "      <td>1</td>\n",
       "      <td>düşük</td>\n",
       "    </tr>\n",
       "    <tr>\n",
       "      <th>1</th>\n",
       "      <td>Murat</td>\n",
       "      <td>24</td>\n",
       "      <td>10000</td>\n",
       "      <td>2</td>\n",
       "      <td>düşük</td>\n",
       "    </tr>\n",
       "    <tr>\n",
       "      <th>2</th>\n",
       "      <td>Andrew</td>\n",
       "      <td>40</td>\n",
       "      <td>40000</td>\n",
       "      <td>3</td>\n",
       "      <td>yüksek</td>\n",
       "    </tr>\n",
       "    <tr>\n",
       "      <th>3</th>\n",
       "      <td>Mikail</td>\n",
       "      <td>28</td>\n",
       "      <td>18000</td>\n",
       "      <td>4</td>\n",
       "      <td>düşük</td>\n",
       "    </tr>\n",
       "    <tr>\n",
       "      <th>4</th>\n",
       "      <td>Natalie</td>\n",
       "      <td>28</td>\n",
       "      <td>12000</td>\n",
       "      <td>5</td>\n",
       "      <td>düşük</td>\n",
       "    </tr>\n",
       "    <tr>\n",
       "      <th>5</th>\n",
       "      <td>Brooke</td>\n",
       "      <td>32</td>\n",
       "      <td>24000</td>\n",
       "      <td>6</td>\n",
       "      <td>yüksek</td>\n",
       "    </tr>\n",
       "    <tr>\n",
       "      <th>6</th>\n",
       "      <td>Sandra</td>\n",
       "      <td>34</td>\n",
       "      <td>24000</td>\n",
       "      <td>7</td>\n",
       "      <td>yüksek</td>\n",
       "    </tr>\n",
       "    <tr>\n",
       "      <th>7</th>\n",
       "      <td>Adriana</td>\n",
       "      <td>35</td>\n",
       "      <td>30000</td>\n",
       "      <td>8</td>\n",
       "      <td>yüksek</td>\n",
       "    </tr>\n",
       "  </tbody>\n",
       "</table>\n",
       "</div>"
      ],
      "text/plain": [
       "    i̇si̇m  yaş   maas  new_feature maas_seviyesi\n",
       "0     Kaan   24  10000            1         düşük\n",
       "1    Murat   24  10000            2         düşük\n",
       "2   Andrew   40  40000            3        yüksek\n",
       "3   Mikail   28  18000            4         düşük\n",
       "4  Natalie   28  12000            5         düşük\n",
       "5   Brooke   32  24000            6        yüksek\n",
       "6   Sandra   34  24000            7        yüksek\n",
       "7  Adriana   35  30000            8        yüksek"
      ]
     },
     "execution_count": 61,
     "metadata": {},
     "output_type": "execute_result"
    }
   ],
   "source": [
    "df  # sildiğimiz sütun kalıcı olmadı. "
   ]
  },
  {
   "cell_type": "code",
   "execution_count": 62,
   "id": "46e2da2f",
   "metadata": {},
   "outputs": [],
   "source": [
    "df.drop([\"new_feature\"], axis = 1, inplace = True)"
   ]
  },
  {
   "cell_type": "code",
   "execution_count": 63,
   "id": "4524c9a7",
   "metadata": {},
   "outputs": [
    {
     "data": {
      "text/html": [
       "<div>\n",
       "<style scoped>\n",
       "    .dataframe tbody tr th:only-of-type {\n",
       "        vertical-align: middle;\n",
       "    }\n",
       "\n",
       "    .dataframe tbody tr th {\n",
       "        vertical-align: top;\n",
       "    }\n",
       "\n",
       "    .dataframe thead th {\n",
       "        text-align: right;\n",
       "    }\n",
       "</style>\n",
       "<table border=\"1\" class=\"dataframe\">\n",
       "  <thead>\n",
       "    <tr style=\"text-align: right;\">\n",
       "      <th></th>\n",
       "      <th>i̇si̇m</th>\n",
       "      <th>yaş</th>\n",
       "      <th>maas</th>\n",
       "      <th>maas_seviyesi</th>\n",
       "    </tr>\n",
       "  </thead>\n",
       "  <tbody>\n",
       "    <tr>\n",
       "      <th>0</th>\n",
       "      <td>Kaan</td>\n",
       "      <td>24</td>\n",
       "      <td>10000</td>\n",
       "      <td>düşük</td>\n",
       "    </tr>\n",
       "    <tr>\n",
       "      <th>1</th>\n",
       "      <td>Murat</td>\n",
       "      <td>24</td>\n",
       "      <td>10000</td>\n",
       "      <td>düşük</td>\n",
       "    </tr>\n",
       "    <tr>\n",
       "      <th>2</th>\n",
       "      <td>Andrew</td>\n",
       "      <td>40</td>\n",
       "      <td>40000</td>\n",
       "      <td>yüksek</td>\n",
       "    </tr>\n",
       "    <tr>\n",
       "      <th>3</th>\n",
       "      <td>Mikail</td>\n",
       "      <td>28</td>\n",
       "      <td>18000</td>\n",
       "      <td>düşük</td>\n",
       "    </tr>\n",
       "    <tr>\n",
       "      <th>4</th>\n",
       "      <td>Natalie</td>\n",
       "      <td>28</td>\n",
       "      <td>12000</td>\n",
       "      <td>düşük</td>\n",
       "    </tr>\n",
       "    <tr>\n",
       "      <th>5</th>\n",
       "      <td>Brooke</td>\n",
       "      <td>32</td>\n",
       "      <td>24000</td>\n",
       "      <td>yüksek</td>\n",
       "    </tr>\n",
       "    <tr>\n",
       "      <th>6</th>\n",
       "      <td>Sandra</td>\n",
       "      <td>34</td>\n",
       "      <td>24000</td>\n",
       "      <td>yüksek</td>\n",
       "    </tr>\n",
       "    <tr>\n",
       "      <th>7</th>\n",
       "      <td>Adriana</td>\n",
       "      <td>35</td>\n",
       "      <td>30000</td>\n",
       "      <td>yüksek</td>\n",
       "    </tr>\n",
       "  </tbody>\n",
       "</table>\n",
       "</div>"
      ],
      "text/plain": [
       "    i̇si̇m  yaş   maas maas_seviyesi\n",
       "0     Kaan   24  10000         düşük\n",
       "1    Murat   24  10000         düşük\n",
       "2   Andrew   40  40000        yüksek\n",
       "3   Mikail   28  18000         düşük\n",
       "4  Natalie   28  12000         düşük\n",
       "5   Brooke   32  24000        yüksek\n",
       "6   Sandra   34  24000        yüksek\n",
       "7  Adriana   35  30000        yüksek"
      ]
     },
     "execution_count": 63,
     "metadata": {},
     "output_type": "execute_result"
    }
   ],
   "source": [
    "df  #inplace = true ile kalıcı olarak sildik ! "
   ]
  },
  {
   "cell_type": "code",
   "execution_count": 70,
   "id": "8e89a453",
   "metadata": {},
   "outputs": [
    {
     "data": {
      "text/html": [
       "<div>\n",
       "<style scoped>\n",
       "    .dataframe tbody tr th:only-of-type {\n",
       "        vertical-align: middle;\n",
       "    }\n",
       "\n",
       "    .dataframe tbody tr th {\n",
       "        vertical-align: top;\n",
       "    }\n",
       "\n",
       "    .dataframe thead th {\n",
       "        text-align: right;\n",
       "    }\n",
       "</style>\n",
       "<table border=\"1\" class=\"dataframe\">\n",
       "  <thead>\n",
       "    <tr style=\"text-align: right;\">\n",
       "      <th></th>\n",
       "      <th>i̇si̇m</th>\n",
       "      <th>yaş</th>\n",
       "      <th>maas</th>\n",
       "      <th>maas_seviyesi</th>\n",
       "    </tr>\n",
       "  </thead>\n",
       "  <tbody>\n",
       "    <tr>\n",
       "      <th>0</th>\n",
       "      <td>Kaan</td>\n",
       "      <td>24</td>\n",
       "      <td>10000</td>\n",
       "      <td>düşük</td>\n",
       "    </tr>\n",
       "    <tr>\n",
       "      <th>1</th>\n",
       "      <td>Murat</td>\n",
       "      <td>24</td>\n",
       "      <td>10000</td>\n",
       "      <td>düşük</td>\n",
       "    </tr>\n",
       "    <tr>\n",
       "      <th>2</th>\n",
       "      <td>Andrew</td>\n",
       "      <td>40</td>\n",
       "      <td>40000</td>\n",
       "      <td>yüksek</td>\n",
       "    </tr>\n",
       "    <tr>\n",
       "      <th>3</th>\n",
       "      <td>Mikail</td>\n",
       "      <td>28</td>\n",
       "      <td>18000</td>\n",
       "      <td>düşük</td>\n",
       "    </tr>\n",
       "    <tr>\n",
       "      <th>4</th>\n",
       "      <td>Natalie</td>\n",
       "      <td>28</td>\n",
       "      <td>12000</td>\n",
       "      <td>düşük</td>\n",
       "    </tr>\n",
       "  </tbody>\n",
       "</table>\n",
       "</div>"
      ],
      "text/plain": [
       "    i̇si̇m  yaş   maas maas_seviyesi\n",
       "0     Kaan   24  10000         düşük\n",
       "1    Murat   24  10000         düşük\n",
       "2   Andrew   40  40000        yüksek\n",
       "3   Mikail   28  18000         düşük\n",
       "4  Natalie   28  12000         düşük"
      ]
     },
     "execution_count": 70,
     "metadata": {},
     "output_type": "execute_result"
    }
   ],
   "source": [
    "data1 = df.head()\n",
    "data1"
   ]
  },
  {
   "cell_type": "code",
   "execution_count": 71,
   "id": "bef79056",
   "metadata": {},
   "outputs": [
    {
     "data": {
      "text/html": [
       "<div>\n",
       "<style scoped>\n",
       "    .dataframe tbody tr th:only-of-type {\n",
       "        vertical-align: middle;\n",
       "    }\n",
       "\n",
       "    .dataframe tbody tr th {\n",
       "        vertical-align: top;\n",
       "    }\n",
       "\n",
       "    .dataframe thead th {\n",
       "        text-align: right;\n",
       "    }\n",
       "</style>\n",
       "<table border=\"1\" class=\"dataframe\">\n",
       "  <thead>\n",
       "    <tr style=\"text-align: right;\">\n",
       "      <th></th>\n",
       "      <th>i̇si̇m</th>\n",
       "      <th>yaş</th>\n",
       "      <th>maas</th>\n",
       "      <th>maas_seviyesi</th>\n",
       "    </tr>\n",
       "  </thead>\n",
       "  <tbody>\n",
       "    <tr>\n",
       "      <th>3</th>\n",
       "      <td>Mikail</td>\n",
       "      <td>28</td>\n",
       "      <td>18000</td>\n",
       "      <td>düşük</td>\n",
       "    </tr>\n",
       "    <tr>\n",
       "      <th>4</th>\n",
       "      <td>Natalie</td>\n",
       "      <td>28</td>\n",
       "      <td>12000</td>\n",
       "      <td>düşük</td>\n",
       "    </tr>\n",
       "    <tr>\n",
       "      <th>5</th>\n",
       "      <td>Brooke</td>\n",
       "      <td>32</td>\n",
       "      <td>24000</td>\n",
       "      <td>yüksek</td>\n",
       "    </tr>\n",
       "    <tr>\n",
       "      <th>6</th>\n",
       "      <td>Sandra</td>\n",
       "      <td>34</td>\n",
       "      <td>24000</td>\n",
       "      <td>yüksek</td>\n",
       "    </tr>\n",
       "    <tr>\n",
       "      <th>7</th>\n",
       "      <td>Adriana</td>\n",
       "      <td>35</td>\n",
       "      <td>30000</td>\n",
       "      <td>yüksek</td>\n",
       "    </tr>\n",
       "  </tbody>\n",
       "</table>\n",
       "</div>"
      ],
      "text/plain": [
       "    i̇si̇m  yaş   maas maas_seviyesi\n",
       "3   Mikail   28  18000         düşük\n",
       "4  Natalie   28  12000         düşük\n",
       "5   Brooke   32  24000        yüksek\n",
       "6   Sandra   34  24000        yüksek\n",
       "7  Adriana   35  30000        yüksek"
      ]
     },
     "execution_count": 71,
     "metadata": {},
     "output_type": "execute_result"
    }
   ],
   "source": [
    "data2 = df.tail()\n",
    "data2"
   ]
  },
  {
   "cell_type": "code",
   "execution_count": 72,
   "id": "cee775f5",
   "metadata": {},
   "outputs": [
    {
     "data": {
      "text/html": [
       "<div>\n",
       "<style scoped>\n",
       "    .dataframe tbody tr th:only-of-type {\n",
       "        vertical-align: middle;\n",
       "    }\n",
       "\n",
       "    .dataframe tbody tr th {\n",
       "        vertical-align: top;\n",
       "    }\n",
       "\n",
       "    .dataframe thead th {\n",
       "        text-align: right;\n",
       "    }\n",
       "</style>\n",
       "<table border=\"1\" class=\"dataframe\">\n",
       "  <thead>\n",
       "    <tr style=\"text-align: right;\">\n",
       "      <th></th>\n",
       "      <th>i̇si̇m</th>\n",
       "      <th>yaş</th>\n",
       "      <th>maas</th>\n",
       "      <th>maas_seviyesi</th>\n",
       "    </tr>\n",
       "  </thead>\n",
       "  <tbody>\n",
       "    <tr>\n",
       "      <th>0</th>\n",
       "      <td>Kaan</td>\n",
       "      <td>24</td>\n",
       "      <td>10000</td>\n",
       "      <td>düşük</td>\n",
       "    </tr>\n",
       "    <tr>\n",
       "      <th>1</th>\n",
       "      <td>Murat</td>\n",
       "      <td>24</td>\n",
       "      <td>10000</td>\n",
       "      <td>düşük</td>\n",
       "    </tr>\n",
       "    <tr>\n",
       "      <th>2</th>\n",
       "      <td>Andrew</td>\n",
       "      <td>40</td>\n",
       "      <td>40000</td>\n",
       "      <td>yüksek</td>\n",
       "    </tr>\n",
       "    <tr>\n",
       "      <th>3</th>\n",
       "      <td>Mikail</td>\n",
       "      <td>28</td>\n",
       "      <td>18000</td>\n",
       "      <td>düşük</td>\n",
       "    </tr>\n",
       "    <tr>\n",
       "      <th>4</th>\n",
       "      <td>Natalie</td>\n",
       "      <td>28</td>\n",
       "      <td>12000</td>\n",
       "      <td>düşük</td>\n",
       "    </tr>\n",
       "    <tr>\n",
       "      <th>3</th>\n",
       "      <td>Mikail</td>\n",
       "      <td>28</td>\n",
       "      <td>18000</td>\n",
       "      <td>düşük</td>\n",
       "    </tr>\n",
       "    <tr>\n",
       "      <th>4</th>\n",
       "      <td>Natalie</td>\n",
       "      <td>28</td>\n",
       "      <td>12000</td>\n",
       "      <td>düşük</td>\n",
       "    </tr>\n",
       "    <tr>\n",
       "      <th>5</th>\n",
       "      <td>Brooke</td>\n",
       "      <td>32</td>\n",
       "      <td>24000</td>\n",
       "      <td>yüksek</td>\n",
       "    </tr>\n",
       "    <tr>\n",
       "      <th>6</th>\n",
       "      <td>Sandra</td>\n",
       "      <td>34</td>\n",
       "      <td>24000</td>\n",
       "      <td>yüksek</td>\n",
       "    </tr>\n",
       "    <tr>\n",
       "      <th>7</th>\n",
       "      <td>Adriana</td>\n",
       "      <td>35</td>\n",
       "      <td>30000</td>\n",
       "      <td>yüksek</td>\n",
       "    </tr>\n",
       "  </tbody>\n",
       "</table>\n",
       "</div>"
      ],
      "text/plain": [
       "    i̇si̇m  yaş   maas maas_seviyesi\n",
       "0     Kaan   24  10000         düşük\n",
       "1    Murat   24  10000         düşük\n",
       "2   Andrew   40  40000        yüksek\n",
       "3   Mikail   28  18000         düşük\n",
       "4  Natalie   28  12000         düşük\n",
       "3   Mikail   28  18000         düşük\n",
       "4  Natalie   28  12000         düşük\n",
       "5   Brooke   32  24000        yüksek\n",
       "6   Sandra   34  24000        yüksek\n",
       "7  Adriana   35  30000        yüksek"
      ]
     },
     "execution_count": 72,
     "metadata": {},
     "output_type": "execute_result"
    }
   ],
   "source": [
    "data_v_concat = pd.concat([data1, data2],axis=0)\n",
    "data_v_concat"
   ]
  },
  {
   "cell_type": "code",
   "execution_count": 74,
   "id": "ab083443",
   "metadata": {},
   "outputs": [
    {
     "data": {
      "text/html": [
       "<div>\n",
       "<style scoped>\n",
       "    .dataframe tbody tr th:only-of-type {\n",
       "        vertical-align: middle;\n",
       "    }\n",
       "\n",
       "    .dataframe tbody tr th {\n",
       "        vertical-align: top;\n",
       "    }\n",
       "\n",
       "    .dataframe thead th {\n",
       "        text-align: right;\n",
       "    }\n",
       "</style>\n",
       "<table border=\"1\" class=\"dataframe\">\n",
       "  <thead>\n",
       "    <tr style=\"text-align: right;\">\n",
       "      <th></th>\n",
       "      <th>maas</th>\n",
       "      <th>yaş</th>\n",
       "    </tr>\n",
       "  </thead>\n",
       "  <tbody>\n",
       "    <tr>\n",
       "      <th>0</th>\n",
       "      <td>10000</td>\n",
       "      <td>24</td>\n",
       "    </tr>\n",
       "    <tr>\n",
       "      <th>1</th>\n",
       "      <td>10000</td>\n",
       "      <td>24</td>\n",
       "    </tr>\n",
       "    <tr>\n",
       "      <th>2</th>\n",
       "      <td>40000</td>\n",
       "      <td>40</td>\n",
       "    </tr>\n",
       "    <tr>\n",
       "      <th>3</th>\n",
       "      <td>18000</td>\n",
       "      <td>28</td>\n",
       "    </tr>\n",
       "    <tr>\n",
       "      <th>4</th>\n",
       "      <td>12000</td>\n",
       "      <td>28</td>\n",
       "    </tr>\n",
       "    <tr>\n",
       "      <th>5</th>\n",
       "      <td>24000</td>\n",
       "      <td>32</td>\n",
       "    </tr>\n",
       "    <tr>\n",
       "      <th>6</th>\n",
       "      <td>24000</td>\n",
       "      <td>34</td>\n",
       "    </tr>\n",
       "    <tr>\n",
       "      <th>7</th>\n",
       "      <td>30000</td>\n",
       "      <td>35</td>\n",
       "    </tr>\n",
       "  </tbody>\n",
       "</table>\n",
       "</div>"
      ],
      "text/plain": [
       "    maas  yaş\n",
       "0  10000   24\n",
       "1  10000   24\n",
       "2  40000   40\n",
       "3  18000   28\n",
       "4  12000   28\n",
       "5  24000   32\n",
       "6  24000   34\n",
       "7  30000   35"
      ]
     },
     "execution_count": 74,
     "metadata": {},
     "output_type": "execute_result"
    }
   ],
   "source": [
    "data_h_concat2 = pd.concat([df.maas, df.yaş],axis=1)\n",
    "data_h_concat2"
   ]
  },
  {
   "cell_type": "markdown",
   "id": "6271167f",
   "metadata": {},
   "source": [
    "# transforming data "
   ]
  },
  {
   "cell_type": "code",
   "execution_count": 80,
   "id": "acd5bbb2",
   "metadata": {},
   "outputs": [
    {
     "data": {
      "text/html": [
       "<div>\n",
       "<style scoped>\n",
       "    .dataframe tbody tr th:only-of-type {\n",
       "        vertical-align: middle;\n",
       "    }\n",
       "\n",
       "    .dataframe tbody tr th {\n",
       "        vertical-align: top;\n",
       "    }\n",
       "\n",
       "    .dataframe thead th {\n",
       "        text-align: right;\n",
       "    }\n",
       "</style>\n",
       "<table border=\"1\" class=\"dataframe\">\n",
       "  <thead>\n",
       "    <tr style=\"text-align: right;\">\n",
       "      <th></th>\n",
       "      <th>i̇si̇m</th>\n",
       "      <th>yaş</th>\n",
       "      <th>maas</th>\n",
       "      <th>maas_seviyesi</th>\n",
       "      <th>zamlı_maas</th>\n",
       "    </tr>\n",
       "  </thead>\n",
       "  <tbody>\n",
       "    <tr>\n",
       "      <th>0</th>\n",
       "      <td>Kaan</td>\n",
       "      <td>24</td>\n",
       "      <td>10000</td>\n",
       "      <td>düşük</td>\n",
       "      <td>15000.0</td>\n",
       "    </tr>\n",
       "    <tr>\n",
       "      <th>1</th>\n",
       "      <td>Murat</td>\n",
       "      <td>24</td>\n",
       "      <td>10000</td>\n",
       "      <td>düşük</td>\n",
       "      <td>15000.0</td>\n",
       "    </tr>\n",
       "    <tr>\n",
       "      <th>2</th>\n",
       "      <td>Andrew</td>\n",
       "      <td>40</td>\n",
       "      <td>40000</td>\n",
       "      <td>yüksek</td>\n",
       "      <td>60000.0</td>\n",
       "    </tr>\n",
       "    <tr>\n",
       "      <th>3</th>\n",
       "      <td>Mikail</td>\n",
       "      <td>28</td>\n",
       "      <td>18000</td>\n",
       "      <td>düşük</td>\n",
       "      <td>27000.0</td>\n",
       "    </tr>\n",
       "    <tr>\n",
       "      <th>4</th>\n",
       "      <td>Natalie</td>\n",
       "      <td>28</td>\n",
       "      <td>12000</td>\n",
       "      <td>düşük</td>\n",
       "      <td>18000.0</td>\n",
       "    </tr>\n",
       "    <tr>\n",
       "      <th>5</th>\n",
       "      <td>Brooke</td>\n",
       "      <td>32</td>\n",
       "      <td>24000</td>\n",
       "      <td>yüksek</td>\n",
       "      <td>36000.0</td>\n",
       "    </tr>\n",
       "    <tr>\n",
       "      <th>6</th>\n",
       "      <td>Sandra</td>\n",
       "      <td>34</td>\n",
       "      <td>24000</td>\n",
       "      <td>yüksek</td>\n",
       "      <td>36000.0</td>\n",
       "    </tr>\n",
       "    <tr>\n",
       "      <th>7</th>\n",
       "      <td>Adriana</td>\n",
       "      <td>35</td>\n",
       "      <td>30000</td>\n",
       "      <td>yüksek</td>\n",
       "      <td>45000.0</td>\n",
       "    </tr>\n",
       "  </tbody>\n",
       "</table>\n",
       "</div>"
      ],
      "text/plain": [
       "    i̇si̇m  yaş   maas maas_seviyesi  zamlı_maas\n",
       "0     Kaan   24  10000         düşük     15000.0\n",
       "1    Murat   24  10000         düşük     15000.0\n",
       "2   Andrew   40  40000        yüksek     60000.0\n",
       "3   Mikail   28  18000         düşük     27000.0\n",
       "4  Natalie   28  12000         düşük     18000.0\n",
       "5   Brooke   32  24000        yüksek     36000.0\n",
       "6   Sandra   34  24000        yüksek     36000.0\n",
       "7  Adriana   35  30000        yüksek     45000.0"
      ]
     },
     "execution_count": 80,
     "metadata": {},
     "output_type": "execute_result"
    }
   ],
   "source": [
    "df[\"zamlı_maas\"] = [ 1/2 * i + i  for i in df.maas]\n",
    "df"
   ]
  },
  {
   "cell_type": "markdown",
   "id": "f9840ebd",
   "metadata": {},
   "source": [
    "# .apply()"
   ]
  },
  {
   "cell_type": "code",
   "execution_count": 83,
   "id": "c13f7f83",
   "metadata": {},
   "outputs": [
    {
     "data": {
      "text/html": [
       "<div>\n",
       "<style scoped>\n",
       "    .dataframe tbody tr th:only-of-type {\n",
       "        vertical-align: middle;\n",
       "    }\n",
       "\n",
       "    .dataframe tbody tr th {\n",
       "        vertical-align: top;\n",
       "    }\n",
       "\n",
       "    .dataframe thead th {\n",
       "        text-align: right;\n",
       "    }\n",
       "</style>\n",
       "<table border=\"1\" class=\"dataframe\">\n",
       "  <thead>\n",
       "    <tr style=\"text-align: right;\">\n",
       "      <th></th>\n",
       "      <th>i̇si̇m</th>\n",
       "      <th>yaş</th>\n",
       "      <th>maas</th>\n",
       "      <th>maas_seviyesi</th>\n",
       "      <th>zamlı_maas</th>\n",
       "      <th>apply_metot</th>\n",
       "    </tr>\n",
       "  </thead>\n",
       "  <tbody>\n",
       "    <tr>\n",
       "      <th>0</th>\n",
       "      <td>Kaan</td>\n",
       "      <td>24</td>\n",
       "      <td>10000</td>\n",
       "      <td>düşük</td>\n",
       "      <td>15000.0</td>\n",
       "      <td>15000.0</td>\n",
       "    </tr>\n",
       "    <tr>\n",
       "      <th>1</th>\n",
       "      <td>Murat</td>\n",
       "      <td>24</td>\n",
       "      <td>10000</td>\n",
       "      <td>düşük</td>\n",
       "      <td>15000.0</td>\n",
       "      <td>15000.0</td>\n",
       "    </tr>\n",
       "    <tr>\n",
       "      <th>2</th>\n",
       "      <td>Andrew</td>\n",
       "      <td>40</td>\n",
       "      <td>40000</td>\n",
       "      <td>yüksek</td>\n",
       "      <td>60000.0</td>\n",
       "      <td>60000.0</td>\n",
       "    </tr>\n",
       "    <tr>\n",
       "      <th>3</th>\n",
       "      <td>Mikail</td>\n",
       "      <td>28</td>\n",
       "      <td>18000</td>\n",
       "      <td>düşük</td>\n",
       "      <td>27000.0</td>\n",
       "      <td>27000.0</td>\n",
       "    </tr>\n",
       "    <tr>\n",
       "      <th>4</th>\n",
       "      <td>Natalie</td>\n",
       "      <td>28</td>\n",
       "      <td>12000</td>\n",
       "      <td>düşük</td>\n",
       "      <td>18000.0</td>\n",
       "      <td>18000.0</td>\n",
       "    </tr>\n",
       "    <tr>\n",
       "      <th>5</th>\n",
       "      <td>Brooke</td>\n",
       "      <td>32</td>\n",
       "      <td>24000</td>\n",
       "      <td>yüksek</td>\n",
       "      <td>36000.0</td>\n",
       "      <td>36000.0</td>\n",
       "    </tr>\n",
       "    <tr>\n",
       "      <th>6</th>\n",
       "      <td>Sandra</td>\n",
       "      <td>34</td>\n",
       "      <td>24000</td>\n",
       "      <td>yüksek</td>\n",
       "      <td>36000.0</td>\n",
       "      <td>36000.0</td>\n",
       "    </tr>\n",
       "    <tr>\n",
       "      <th>7</th>\n",
       "      <td>Adriana</td>\n",
       "      <td>35</td>\n",
       "      <td>30000</td>\n",
       "      <td>yüksek</td>\n",
       "      <td>45000.0</td>\n",
       "      <td>45000.0</td>\n",
       "    </tr>\n",
       "  </tbody>\n",
       "</table>\n",
       "</div>"
      ],
      "text/plain": [
       "    i̇si̇m  yaş   maas maas_seviyesi  zamlı_maas  apply_metot\n",
       "0     Kaan   24  10000         düşük     15000.0      15000.0\n",
       "1    Murat   24  10000         düşük     15000.0      15000.0\n",
       "2   Andrew   40  40000        yüksek     60000.0      60000.0\n",
       "3   Mikail   28  18000         düşük     27000.0      27000.0\n",
       "4  Natalie   28  12000         düşük     18000.0      18000.0\n",
       "5   Brooke   32  24000        yüksek     36000.0      36000.0\n",
       "6   Sandra   34  24000        yüksek     36000.0      36000.0\n",
       "7  Adriana   35  30000        yüksek     45000.0      45000.0"
      ]
     },
     "execution_count": 83,
     "metadata": {},
     "output_type": "execute_result"
    }
   ],
   "source": [
    "def multiply(maas):\n",
    "    return maas/2 + maas\n",
    "\n",
    "df[\"apply_metot\"] = df.maas.apply(multiply)\n",
    "df"
   ]
  },
  {
   "cell_type": "code",
   "execution_count": 84,
   "id": "7f584473",
   "metadata": {},
   "outputs": [
    {
     "data": {
      "text/html": [
       "<div>\n",
       "<style scoped>\n",
       "    .dataframe tbody tr th:only-of-type {\n",
       "        vertical-align: middle;\n",
       "    }\n",
       "\n",
       "    .dataframe tbody tr th {\n",
       "        vertical-align: top;\n",
       "    }\n",
       "\n",
       "    .dataframe thead th {\n",
       "        text-align: right;\n",
       "    }\n",
       "</style>\n",
       "<table border=\"1\" class=\"dataframe\">\n",
       "  <thead>\n",
       "    <tr style=\"text-align: right;\">\n",
       "      <th></th>\n",
       "      <th>i̇si̇m</th>\n",
       "      <th>yaş</th>\n",
       "      <th>maas</th>\n",
       "      <th>maas_seviyesi</th>\n",
       "      <th>zamlı_maas</th>\n",
       "      <th>apply_metot</th>\n",
       "      <th>log_maas</th>\n",
       "    </tr>\n",
       "  </thead>\n",
       "  <tbody>\n",
       "    <tr>\n",
       "      <th>0</th>\n",
       "      <td>Kaan</td>\n",
       "      <td>24</td>\n",
       "      <td>10000</td>\n",
       "      <td>düşük</td>\n",
       "      <td>15000.0</td>\n",
       "      <td>15000.0</td>\n",
       "      <td>9.210340</td>\n",
       "    </tr>\n",
       "    <tr>\n",
       "      <th>1</th>\n",
       "      <td>Murat</td>\n",
       "      <td>24</td>\n",
       "      <td>10000</td>\n",
       "      <td>düşük</td>\n",
       "      <td>15000.0</td>\n",
       "      <td>15000.0</td>\n",
       "      <td>9.210340</td>\n",
       "    </tr>\n",
       "    <tr>\n",
       "      <th>2</th>\n",
       "      <td>Andrew</td>\n",
       "      <td>40</td>\n",
       "      <td>40000</td>\n",
       "      <td>yüksek</td>\n",
       "      <td>60000.0</td>\n",
       "      <td>60000.0</td>\n",
       "      <td>10.596635</td>\n",
       "    </tr>\n",
       "    <tr>\n",
       "      <th>3</th>\n",
       "      <td>Mikail</td>\n",
       "      <td>28</td>\n",
       "      <td>18000</td>\n",
       "      <td>düşük</td>\n",
       "      <td>27000.0</td>\n",
       "      <td>27000.0</td>\n",
       "      <td>9.798127</td>\n",
       "    </tr>\n",
       "    <tr>\n",
       "      <th>4</th>\n",
       "      <td>Natalie</td>\n",
       "      <td>28</td>\n",
       "      <td>12000</td>\n",
       "      <td>düşük</td>\n",
       "      <td>18000.0</td>\n",
       "      <td>18000.0</td>\n",
       "      <td>9.392662</td>\n",
       "    </tr>\n",
       "    <tr>\n",
       "      <th>5</th>\n",
       "      <td>Brooke</td>\n",
       "      <td>32</td>\n",
       "      <td>24000</td>\n",
       "      <td>yüksek</td>\n",
       "      <td>36000.0</td>\n",
       "      <td>36000.0</td>\n",
       "      <td>10.085809</td>\n",
       "    </tr>\n",
       "    <tr>\n",
       "      <th>6</th>\n",
       "      <td>Sandra</td>\n",
       "      <td>34</td>\n",
       "      <td>24000</td>\n",
       "      <td>yüksek</td>\n",
       "      <td>36000.0</td>\n",
       "      <td>36000.0</td>\n",
       "      <td>10.085809</td>\n",
       "    </tr>\n",
       "    <tr>\n",
       "      <th>7</th>\n",
       "      <td>Adriana</td>\n",
       "      <td>35</td>\n",
       "      <td>30000</td>\n",
       "      <td>yüksek</td>\n",
       "      <td>45000.0</td>\n",
       "      <td>45000.0</td>\n",
       "      <td>10.308953</td>\n",
       "    </tr>\n",
       "  </tbody>\n",
       "</table>\n",
       "</div>"
      ],
      "text/plain": [
       "    i̇si̇m  yaş   maas maas_seviyesi  zamlı_maas  apply_metot   log_maas\n",
       "0     Kaan   24  10000         düşük     15000.0      15000.0   9.210340\n",
       "1    Murat   24  10000         düşük     15000.0      15000.0   9.210340\n",
       "2   Andrew   40  40000        yüksek     60000.0      60000.0  10.596635\n",
       "3   Mikail   28  18000         düşük     27000.0      27000.0   9.798127\n",
       "4  Natalie   28  12000         düşük     18000.0      18000.0   9.392662\n",
       "5   Brooke   32  24000        yüksek     36000.0      36000.0  10.085809\n",
       "6   Sandra   34  24000        yüksek     36000.0      36000.0  10.085809\n",
       "7  Adriana   35  30000        yüksek     45000.0      45000.0  10.308953"
      ]
     },
     "execution_count": 84,
     "metadata": {},
     "output_type": "execute_result"
    }
   ],
   "source": [
    "import numpy as np\n",
    "\n",
    "def log(apply_metot):\n",
    "    return np.log(apply_metot)\n",
    "\n",
    "df[\"log_maas\"] = df.maas.apply(log)\n",
    "df"
   ]
  },
  {
   "cell_type": "code",
   "execution_count": null,
   "id": "6d2abb16",
   "metadata": {},
   "outputs": [],
   "source": []
  }
 ],
 "metadata": {
  "kernelspec": {
   "display_name": "Python 3 (ipykernel)",
   "language": "python",
   "name": "python3"
  },
  "language_info": {
   "codemirror_mode": {
    "name": "ipython",
    "version": 3
   },
   "file_extension": ".py",
   "mimetype": "text/x-python",
   "name": "python",
   "nbconvert_exporter": "python",
   "pygments_lexer": "ipython3",
   "version": "3.9.7"
  }
 },
 "nbformat": 4,
 "nbformat_minor": 5
}
