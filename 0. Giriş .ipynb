{
 "cells": [
  {
   "cell_type": "markdown",
   "id": "896dda23",
   "metadata": {},
   "source": [
    "Bu ders notlarının büyük çoğunluğu, Sn. Mustafa Murat Coşkun' un UDEMY derslerinden uyarlanmıştır. \n",
    "\n",
    "https://www.udemy.com/course/sifirdan-ileri-seviyeye-python/\n",
    "\n",
    "Bu ders notları, Kırıkkale Üni. Kırıkkale MYO, Elektronik ve Otomasyon Bölümü,\n",
    "Python Programlama Dili Derslerinde kullanılmaktadır. "
   ]
  },
  {
   "cell_type": "code",
   "execution_count": null,
   "id": "5058d0d5",
   "metadata": {},
   "outputs": [],
   "source": []
  }
 ],
 "metadata": {
  "kernelspec": {
   "display_name": "Python 3 (ipykernel)",
   "language": "python",
   "name": "python3"
  },
  "language_info": {
   "codemirror_mode": {
    "name": "ipython",
    "version": 3
   },
   "file_extension": ".py",
   "mimetype": "text/x-python",
   "name": "python",
   "nbconvert_exporter": "python",
   "pygments_lexer": "ipython3",
   "version": "3.9.7"
  }
 },
 "nbformat": 4,
 "nbformat_minor": 5
}
