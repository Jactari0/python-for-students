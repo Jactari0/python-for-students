{
 "cells": [
  {
   "cell_type": "raw",
   "id": "1bbf0075",
   "metadata": {},
   "source": [
    "Bu ders notlarının büyük çoğunluğu, Sn. Mustafa Murat Coşkun' un UDEMY derslerinden uyarlanmıştır. \n",
    "\n",
    "https://www.udemy.com/course/sifirdan-ileri-seviyeye-python/\n",
    "\n",
    "Bu ders notları, Kırıkkale Üni. Kırıkkale MYO, Elektronik ve Otomasyon Bölümü,\n",
    "Python Programlama Dili Derslerinde kullanılmaktadır. "
   ]
  }
 ],
 "metadata": {
  "kernelspec": {
   "display_name": "Python 3 (ipykernel)",
   "language": "python",
   "name": "python3"
  },
  "language_info": {
   "codemirror_mode": {
    "name": "ipython",
    "version": 3
   },
   "file_extension": ".py",
   "mimetype": "text/x-python",
   "name": "python",
   "nbconvert_exporter": "python",
   "pygments_lexer": "ipython3",
   "version": "3.9.7"
  }
 },
 "nbformat": 4,
 "nbformat_minor": 5
}
